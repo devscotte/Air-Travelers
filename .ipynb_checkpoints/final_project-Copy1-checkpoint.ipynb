{
 "cells": [
  {
   "cell_type": "markdown",
   "metadata": {},
   "source": [
    "# Travel in 2020"
   ]
  },
  {
   "cell_type": "markdown",
   "metadata": {},
   "source": [
    "The year 2020 has been filled with many different events that have impacted various commercial areas. Specifically, the travel industry in the United States has seen a significant down tick in the number of people traveling. The purpose of this project is to collect data from various different sources to see if we can predict with high accuracy the number of people that would travel on a single day in 2020, specifically flying. We will be using data for number of travelers from the TSA website, data from the ourworldindata.org for covid case counts per day, stock market data from yahoo finance, and various other sources to know dates of travel bans. We want to see if the economic status, public health status, sports status, or CDC guidelines can be used to predict with high accuracy the number of air travelers in the United States."
   ]
  },
  {
   "cell_type": "markdown",
   "metadata": {},
   "source": [
    "## Import Libraries"
   ]
  },
  {
   "cell_type": "code",
   "execution_count": 254,
   "metadata": {},
   "outputs": [],
   "source": [
    "#Import libraries\n",
    "import pandas as pd\n",
    "import numpy as np\n",
    "import matplotlib.pyplot as plt\n",
    "import seaborn as sns\n",
    "from datetime import datetime\n",
    "import time\n",
    "import math\n",
    "from bs4 import BeautifulSoup\n",
    "%matplotlib inline\n",
    "from dfply import *\n",
    "import matplotlib.dates as mdates"
   ]
  },
  {
   "cell_type": "markdown",
   "metadata": {},
   "source": [
    "## Read in data"
   ]
  },
  {
   "cell_type": "code",
   "execution_count": 3,
   "metadata": {},
   "outputs": [],
   "source": [
    "#Read in covid case and death count data\n",
    "covid = pd.read_csv('daily-covid-cases-deaths.csv')"
   ]
  },
  {
   "cell_type": "code",
   "execution_count": 4,
   "metadata": {},
   "outputs": [
    {
     "data": {
      "text/html": [
       "<div>\n",
       "<style scoped>\n",
       "    .dataframe tbody tr th:only-of-type {\n",
       "        vertical-align: middle;\n",
       "    }\n",
       "\n",
       "    .dataframe tbody tr th {\n",
       "        vertical-align: top;\n",
       "    }\n",
       "\n",
       "    .dataframe thead th {\n",
       "        text-align: right;\n",
       "    }\n",
       "</style>\n",
       "<table border=\"1\" class=\"dataframe\">\n",
       "  <thead>\n",
       "    <tr style=\"text-align: right;\">\n",
       "      <th></th>\n",
       "      <th>Entity</th>\n",
       "      <th>Code</th>\n",
       "      <th>Date</th>\n",
       "      <th>Daily new confirmed cases of COVID-19</th>\n",
       "      <th>Daily new confirmed deaths due to COVID-19</th>\n",
       "    </tr>\n",
       "  </thead>\n",
       "  <tbody>\n",
       "    <tr>\n",
       "      <th>0</th>\n",
       "      <td>Afghanistan</td>\n",
       "      <td>AFG</td>\n",
       "      <td>2020-01-23</td>\n",
       "      <td>0</td>\n",
       "      <td>0</td>\n",
       "    </tr>\n",
       "    <tr>\n",
       "      <th>1</th>\n",
       "      <td>Afghanistan</td>\n",
       "      <td>AFG</td>\n",
       "      <td>2020-01-24</td>\n",
       "      <td>0</td>\n",
       "      <td>0</td>\n",
       "    </tr>\n",
       "    <tr>\n",
       "      <th>2</th>\n",
       "      <td>Afghanistan</td>\n",
       "      <td>AFG</td>\n",
       "      <td>2020-01-25</td>\n",
       "      <td>0</td>\n",
       "      <td>0</td>\n",
       "    </tr>\n",
       "    <tr>\n",
       "      <th>3</th>\n",
       "      <td>Afghanistan</td>\n",
       "      <td>AFG</td>\n",
       "      <td>2020-01-26</td>\n",
       "      <td>0</td>\n",
       "      <td>0</td>\n",
       "    </tr>\n",
       "    <tr>\n",
       "      <th>4</th>\n",
       "      <td>Afghanistan</td>\n",
       "      <td>AFG</td>\n",
       "      <td>2020-01-27</td>\n",
       "      <td>0</td>\n",
       "      <td>0</td>\n",
       "    </tr>\n",
       "  </tbody>\n",
       "</table>\n",
       "</div>"
      ],
      "text/plain": [
       "        Entity Code        Date  Daily new confirmed cases of COVID-19  \\\n",
       "0  Afghanistan  AFG  2020-01-23                                      0   \n",
       "1  Afghanistan  AFG  2020-01-24                                      0   \n",
       "2  Afghanistan  AFG  2020-01-25                                      0   \n",
       "3  Afghanistan  AFG  2020-01-26                                      0   \n",
       "4  Afghanistan  AFG  2020-01-27                                      0   \n",
       "\n",
       "   Daily new confirmed deaths due to COVID-19  \n",
       "0                                           0  \n",
       "1                                           0  \n",
       "2                                           0  \n",
       "3                                           0  \n",
       "4                                           0  "
      ]
     },
     "execution_count": 4,
     "metadata": {},
     "output_type": "execute_result"
    }
   ],
   "source": [
    "#Check to see if read in properly\n",
    "covid.head()"
   ]
  },
  {
   "cell_type": "code",
   "execution_count": 5,
   "metadata": {},
   "outputs": [],
   "source": [
    "#Read in stock market data\n",
    "stock = pd.read_csv('^DJI.csv')"
   ]
  },
  {
   "cell_type": "code",
   "execution_count": 6,
   "metadata": {},
   "outputs": [
    {
     "data": {
      "text/html": [
       "<div>\n",
       "<style scoped>\n",
       "    .dataframe tbody tr th:only-of-type {\n",
       "        vertical-align: middle;\n",
       "    }\n",
       "\n",
       "    .dataframe tbody tr th {\n",
       "        vertical-align: top;\n",
       "    }\n",
       "\n",
       "    .dataframe thead th {\n",
       "        text-align: right;\n",
       "    }\n",
       "</style>\n",
       "<table border=\"1\" class=\"dataframe\">\n",
       "  <thead>\n",
       "    <tr style=\"text-align: right;\">\n",
       "      <th></th>\n",
       "      <th>Date</th>\n",
       "      <th>Open</th>\n",
       "      <th>High</th>\n",
       "      <th>Low</th>\n",
       "      <th>Close</th>\n",
       "      <th>Adj Close</th>\n",
       "      <th>Volume</th>\n",
       "    </tr>\n",
       "  </thead>\n",
       "  <tbody>\n",
       "    <tr>\n",
       "      <th>0</th>\n",
       "      <td>2019-12-10</td>\n",
       "      <td>27900.650391</td>\n",
       "      <td>27949.019531</td>\n",
       "      <td>27804.000000</td>\n",
       "      <td>27881.720703</td>\n",
       "      <td>27881.720703</td>\n",
       "      <td>213250000</td>\n",
       "    </tr>\n",
       "    <tr>\n",
       "      <th>1</th>\n",
       "      <td>2019-12-11</td>\n",
       "      <td>27867.310547</td>\n",
       "      <td>27925.500000</td>\n",
       "      <td>27801.800781</td>\n",
       "      <td>27911.300781</td>\n",
       "      <td>27911.300781</td>\n",
       "      <td>213510000</td>\n",
       "    </tr>\n",
       "    <tr>\n",
       "      <th>2</th>\n",
       "      <td>2019-12-12</td>\n",
       "      <td>27898.339844</td>\n",
       "      <td>28224.949219</td>\n",
       "      <td>27859.869141</td>\n",
       "      <td>28132.050781</td>\n",
       "      <td>28132.050781</td>\n",
       "      <td>277740000</td>\n",
       "    </tr>\n",
       "    <tr>\n",
       "      <th>3</th>\n",
       "      <td>2019-12-13</td>\n",
       "      <td>28123.640625</td>\n",
       "      <td>28290.730469</td>\n",
       "      <td>28028.320313</td>\n",
       "      <td>28135.380859</td>\n",
       "      <td>28135.380859</td>\n",
       "      <td>250660000</td>\n",
       "    </tr>\n",
       "    <tr>\n",
       "      <th>4</th>\n",
       "      <td>2019-12-16</td>\n",
       "      <td>28191.669922</td>\n",
       "      <td>28337.490234</td>\n",
       "      <td>28191.669922</td>\n",
       "      <td>28235.890625</td>\n",
       "      <td>28235.890625</td>\n",
       "      <td>286770000</td>\n",
       "    </tr>\n",
       "  </tbody>\n",
       "</table>\n",
       "</div>"
      ],
      "text/plain": [
       "         Date          Open          High           Low         Close  \\\n",
       "0  2019-12-10  27900.650391  27949.019531  27804.000000  27881.720703   \n",
       "1  2019-12-11  27867.310547  27925.500000  27801.800781  27911.300781   \n",
       "2  2019-12-12  27898.339844  28224.949219  27859.869141  28132.050781   \n",
       "3  2019-12-13  28123.640625  28290.730469  28028.320313  28135.380859   \n",
       "4  2019-12-16  28191.669922  28337.490234  28191.669922  28235.890625   \n",
       "\n",
       "      Adj Close     Volume  \n",
       "0  27881.720703  213250000  \n",
       "1  27911.300781  213510000  \n",
       "2  28132.050781  277740000  \n",
       "3  28135.380859  250660000  \n",
       "4  28235.890625  286770000  "
      ]
     },
     "execution_count": 6,
     "metadata": {},
     "output_type": "execute_result"
    }
   ],
   "source": [
    "#Check to see if read in properly\n",
    "stock.head()"
   ]
  },
  {
   "cell_type": "code",
   "execution_count": 9,
   "metadata": {},
   "outputs": [],
   "source": [
    "#Read in data for number of travelers\n",
    "tsa_data = pd.read_csv('tsa_data.csv')"
   ]
  },
  {
   "cell_type": "code",
   "execution_count": 13,
   "metadata": {},
   "outputs": [
    {
     "data": {
      "text/html": [
       "<div>\n",
       "<style scoped>\n",
       "    .dataframe tbody tr th:only-of-type {\n",
       "        vertical-align: middle;\n",
       "    }\n",
       "\n",
       "    .dataframe tbody tr th {\n",
       "        vertical-align: top;\n",
       "    }\n",
       "\n",
       "    .dataframe thead th {\n",
       "        text-align: right;\n",
       "    }\n",
       "</style>\n",
       "<table border=\"1\" class=\"dataframe\">\n",
       "  <thead>\n",
       "    <tr style=\"text-align: right;\">\n",
       "      <th></th>\n",
       "      <th>Date</th>\n",
       "      <th>Total Traveler Throughput</th>\n",
       "      <th>Total Traveler Throughput (1 Year Ago - Same Weekday)</th>\n",
       "    </tr>\n",
       "  </thead>\n",
       "  <tbody>\n",
       "    <tr>\n",
       "      <th>0</th>\n",
       "      <td>12/9/2020</td>\n",
       "      <td>564,372</td>\n",
       "      <td>2,020,488</td>\n",
       "    </tr>\n",
       "    <tr>\n",
       "      <th>1</th>\n",
       "      <td>12/8/2020</td>\n",
       "      <td>501,513</td>\n",
       "      <td>1,897,051</td>\n",
       "    </tr>\n",
       "    <tr>\n",
       "      <th>2</th>\n",
       "      <td>12/7/2020</td>\n",
       "      <td>703,546</td>\n",
       "      <td>2,226,290</td>\n",
       "    </tr>\n",
       "    <tr>\n",
       "      <th>3</th>\n",
       "      <td>12/6/2020</td>\n",
       "      <td>837,137</td>\n",
       "      <td>2,292,079</td>\n",
       "    </tr>\n",
       "    <tr>\n",
       "      <th>4</th>\n",
       "      <td>12/5/2020</td>\n",
       "      <td>629,430</td>\n",
       "      <td>1,755,801</td>\n",
       "    </tr>\n",
       "  </tbody>\n",
       "</table>\n",
       "</div>"
      ],
      "text/plain": [
       "        Date Total Traveler Throughput  \\\n",
       "0  12/9/2020                   564,372   \n",
       "1  12/8/2020                   501,513   \n",
       "2  12/7/2020                   703,546   \n",
       "3  12/6/2020                   837,137   \n",
       "4  12/5/2020                   629,430   \n",
       "\n",
       "  Total Traveler Throughput (1 Year Ago - Same Weekday)  \n",
       "0                                          2,020,488     \n",
       "1                                          1,897,051     \n",
       "2                                          2,226,290     \n",
       "3                                          2,292,079     \n",
       "4                                          1,755,801     "
      ]
     },
     "execution_count": 13,
     "metadata": {},
     "output_type": "execute_result"
    }
   ],
   "source": [
    "#Check to see if read in properly\n",
    "tsa_data.head()"
   ]
  },
  {
   "cell_type": "code",
   "execution_count": 14,
   "metadata": {},
   "outputs": [],
   "source": [
    "#Sources for NBA and other sport suspensions\n",
    "# https://www.nba.com/news/nba-suspend-season-following-wednesdays-games\n",
    "# https://bleacherreport.com/articles/2880569-timeline-of-coronavirus-impact-on-sports"
   ]
  },
  {
   "cell_type": "code",
   "execution_count": 103,
   "metadata": {},
   "outputs": [],
   "source": [
    "#Create dataset to show when first major sports league suspended season (NBA) and when it restarted\n",
    "nba = pd.DataFrame()\n",
    "\n",
    "sports_maybe = []\n",
    "\n",
    "for i in range(1, 366):\n",
    "    if i < 71:\n",
    "        sports_maybe.append(1)\n",
    "    elif i >= 71 and i < 189:\n",
    "        sports_maybe.append(0)\n",
    "    else:\n",
    "        sports_maybe.append(1)\n",
    "        \n",
    "nba['Games'] = sports_maybe\n",
    "        "
   ]
  },
  {
   "cell_type": "code",
   "execution_count": 104,
   "metadata": {},
   "outputs": [
    {
     "data": {
      "text/html": [
       "<div>\n",
       "<style scoped>\n",
       "    .dataframe tbody tr th:only-of-type {\n",
       "        vertical-align: middle;\n",
       "    }\n",
       "\n",
       "    .dataframe tbody tr th {\n",
       "        vertical-align: top;\n",
       "    }\n",
       "\n",
       "    .dataframe thead th {\n",
       "        text-align: right;\n",
       "    }\n",
       "</style>\n",
       "<table border=\"1\" class=\"dataframe\">\n",
       "  <thead>\n",
       "    <tr style=\"text-align: right;\">\n",
       "      <th></th>\n",
       "      <th>Games</th>\n",
       "    </tr>\n",
       "  </thead>\n",
       "  <tbody>\n",
       "    <tr>\n",
       "      <th>0</th>\n",
       "      <td>1</td>\n",
       "    </tr>\n",
       "    <tr>\n",
       "      <th>1</th>\n",
       "      <td>1</td>\n",
       "    </tr>\n",
       "    <tr>\n",
       "      <th>2</th>\n",
       "      <td>1</td>\n",
       "    </tr>\n",
       "    <tr>\n",
       "      <th>3</th>\n",
       "      <td>1</td>\n",
       "    </tr>\n",
       "    <tr>\n",
       "      <th>4</th>\n",
       "      <td>1</td>\n",
       "    </tr>\n",
       "  </tbody>\n",
       "</table>\n",
       "</div>"
      ],
      "text/plain": [
       "   Games\n",
       "0      1\n",
       "1      1\n",
       "2      1\n",
       "3      1\n",
       "4      1"
      ]
     },
     "execution_count": 104,
     "metadata": {},
     "output_type": "execute_result"
    }
   ],
   "source": [
    "nba.head()"
   ]
  },
  {
   "cell_type": "code",
   "execution_count": 105,
   "metadata": {},
   "outputs": [],
   "source": [
    "#Source for first mask recommendation made by CDC\n",
    "# https://www.npr.org/sections/coronavirus-live-updates/2020/04/03/826219824/president-trump-says-cdc-now-recommends-americans-wear-cloth-masks-in-public"
   ]
  },
  {
   "cell_type": "code",
   "execution_count": 106,
   "metadata": {},
   "outputs": [],
   "source": [
    "#Create dataset to show when masks were recommended\n",
    "\n",
    "masks = pd.DataFrame()\n",
    "\n",
    "masks_lst = []\n",
    "\n",
    "for i in range(1, 366):\n",
    "    if i < 93:\n",
    "        masks_lst.append(0)\n",
    "    else:\n",
    "        masks_lst.append(1)\n",
    "\n",
    "masks['recommendation'] = masks_lst"
   ]
  },
  {
   "cell_type": "code",
   "execution_count": 107,
   "metadata": {},
   "outputs": [
    {
     "data": {
      "text/html": [
       "<div>\n",
       "<style scoped>\n",
       "    .dataframe tbody tr th:only-of-type {\n",
       "        vertical-align: middle;\n",
       "    }\n",
       "\n",
       "    .dataframe tbody tr th {\n",
       "        vertical-align: top;\n",
       "    }\n",
       "\n",
       "    .dataframe thead th {\n",
       "        text-align: right;\n",
       "    }\n",
       "</style>\n",
       "<table border=\"1\" class=\"dataframe\">\n",
       "  <thead>\n",
       "    <tr style=\"text-align: right;\">\n",
       "      <th></th>\n",
       "      <th>recommendation</th>\n",
       "    </tr>\n",
       "  </thead>\n",
       "  <tbody>\n",
       "    <tr>\n",
       "      <th>0</th>\n",
       "      <td>0</td>\n",
       "    </tr>\n",
       "    <tr>\n",
       "      <th>1</th>\n",
       "      <td>0</td>\n",
       "    </tr>\n",
       "    <tr>\n",
       "      <th>2</th>\n",
       "      <td>0</td>\n",
       "    </tr>\n",
       "    <tr>\n",
       "      <th>3</th>\n",
       "      <td>0</td>\n",
       "    </tr>\n",
       "    <tr>\n",
       "      <th>4</th>\n",
       "      <td>0</td>\n",
       "    </tr>\n",
       "    <tr>\n",
       "      <th>...</th>\n",
       "      <td>...</td>\n",
       "    </tr>\n",
       "    <tr>\n",
       "      <th>360</th>\n",
       "      <td>1</td>\n",
       "    </tr>\n",
       "    <tr>\n",
       "      <th>361</th>\n",
       "      <td>1</td>\n",
       "    </tr>\n",
       "    <tr>\n",
       "      <th>362</th>\n",
       "      <td>1</td>\n",
       "    </tr>\n",
       "    <tr>\n",
       "      <th>363</th>\n",
       "      <td>1</td>\n",
       "    </tr>\n",
       "    <tr>\n",
       "      <th>364</th>\n",
       "      <td>1</td>\n",
       "    </tr>\n",
       "  </tbody>\n",
       "</table>\n",
       "<p>365 rows × 1 columns</p>\n",
       "</div>"
      ],
      "text/plain": [
       "     recommendation\n",
       "0                 0\n",
       "1                 0\n",
       "2                 0\n",
       "3                 0\n",
       "4                 0\n",
       "..              ...\n",
       "360               1\n",
       "361               1\n",
       "362               1\n",
       "363               1\n",
       "364               1\n",
       "\n",
       "[365 rows x 1 columns]"
      ]
     },
     "execution_count": 107,
     "metadata": {},
     "output_type": "execute_result"
    }
   ],
   "source": [
    "#Check dataset\n",
    "masks"
   ]
  },
  {
   "cell_type": "markdown",
   "metadata": {},
   "source": [
    "## Clean up data and Create main dataframe"
   ]
  },
  {
   "cell_type": "code",
   "execution_count": 32,
   "metadata": {},
   "outputs": [],
   "source": [
    "#Clean up covid dataset to only include United States\n",
    "usa_covid = covid.loc[covid['Entity'] == 'United States']"
   ]
  },
  {
   "cell_type": "code",
   "execution_count": 34,
   "metadata": {},
   "outputs": [
    {
     "data": {
      "text/html": [
       "<div>\n",
       "<style scoped>\n",
       "    .dataframe tbody tr th:only-of-type {\n",
       "        vertical-align: middle;\n",
       "    }\n",
       "\n",
       "    .dataframe tbody tr th {\n",
       "        vertical-align: top;\n",
       "    }\n",
       "\n",
       "    .dataframe thead th {\n",
       "        text-align: right;\n",
       "    }\n",
       "</style>\n",
       "<table border=\"1\" class=\"dataframe\">\n",
       "  <thead>\n",
       "    <tr style=\"text-align: right;\">\n",
       "      <th></th>\n",
       "      <th>Date</th>\n",
       "      <th>Total Traveler Throughput</th>\n",
       "      <th>Total Traveler Throughput (1 Year Ago - Same Weekday)</th>\n",
       "    </tr>\n",
       "  </thead>\n",
       "  <tbody>\n",
       "    <tr>\n",
       "      <th>279</th>\n",
       "      <td>3/5/2020</td>\n",
       "      <td>2,130,015</td>\n",
       "      <td>2,402,692</td>\n",
       "    </tr>\n",
       "    <tr>\n",
       "      <th>280</th>\n",
       "      <td>3/4/2020</td>\n",
       "      <td>1,877,401</td>\n",
       "      <td>2,143,619</td>\n",
       "    </tr>\n",
       "    <tr>\n",
       "      <th>281</th>\n",
       "      <td>3/3/2020</td>\n",
       "      <td>1,736,393</td>\n",
       "      <td>1,979,558</td>\n",
       "    </tr>\n",
       "    <tr>\n",
       "      <th>282</th>\n",
       "      <td>3/2/2020</td>\n",
       "      <td>2,089,641</td>\n",
       "      <td>2,257,920</td>\n",
       "    </tr>\n",
       "    <tr>\n",
       "      <th>283</th>\n",
       "      <td>3/1/2020</td>\n",
       "      <td>2,280,522</td>\n",
       "      <td>2,301,439</td>\n",
       "    </tr>\n",
       "  </tbody>\n",
       "</table>\n",
       "</div>"
      ],
      "text/plain": [
       "         Date Total Traveler Throughput  \\\n",
       "279  3/5/2020                 2,130,015   \n",
       "280  3/4/2020                 1,877,401   \n",
       "281  3/3/2020                 1,736,393   \n",
       "282  3/2/2020                 2,089,641   \n",
       "283  3/1/2020                 2,280,522   \n",
       "\n",
       "    Total Traveler Throughput (1 Year Ago - Same Weekday)  \n",
       "279                                          2,402,692     \n",
       "280                                          2,143,619     \n",
       "281                                          1,979,558     \n",
       "282                                          2,257,920     \n",
       "283                                          2,301,439     "
      ]
     },
     "execution_count": 34,
     "metadata": {},
     "output_type": "execute_result"
    }
   ],
   "source": [
    "#Check earliest date for tsa dates\n",
    "tsa_data.tail()"
   ]
  },
  {
   "cell_type": "markdown",
   "metadata": {},
   "source": [
    "The earliest date for the flights begin on March 1, 2020. We will need to drop all other observations before that date."
   ]
  },
  {
   "cell_type": "code",
   "execution_count": 52,
   "metadata": {},
   "outputs": [],
   "source": [
    "#Drop all dates from stock before March 1\n",
    "stock = stock[(stock['Date'] >= '2020-03-01') & (stock['Date'] <= '2020-12-09')].reset_index()"
   ]
  },
  {
   "cell_type": "code",
   "execution_count": 51,
   "metadata": {},
   "outputs": [],
   "source": [
    "#Drop all dates from covid before March 1\n",
    "usa_covid = usa_covid[(usa_covid['Date'] >= '2020-03-01') & (usa_covid['Date'] <= '2020-12-09')].reset_index()"
   ]
  },
  {
   "cell_type": "code",
   "execution_count": 53,
   "metadata": {},
   "outputs": [
    {
     "data": {
      "text/html": [
       "<div>\n",
       "<style scoped>\n",
       "    .dataframe tbody tr th:only-of-type {\n",
       "        vertical-align: middle;\n",
       "    }\n",
       "\n",
       "    .dataframe tbody tr th {\n",
       "        vertical-align: top;\n",
       "    }\n",
       "\n",
       "    .dataframe thead th {\n",
       "        text-align: right;\n",
       "    }\n",
       "</style>\n",
       "<table border=\"1\" class=\"dataframe\">\n",
       "  <thead>\n",
       "    <tr style=\"text-align: right;\">\n",
       "      <th></th>\n",
       "      <th>index</th>\n",
       "      <th>Date</th>\n",
       "      <th>Open</th>\n",
       "      <th>High</th>\n",
       "      <th>Low</th>\n",
       "      <th>Close</th>\n",
       "      <th>Adj Close</th>\n",
       "      <th>Volume</th>\n",
       "    </tr>\n",
       "  </thead>\n",
       "  <tbody>\n",
       "    <tr>\n",
       "      <th>0</th>\n",
       "      <td>55</td>\n",
       "      <td>2020-03-02</td>\n",
       "      <td>25590.509766</td>\n",
       "      <td>26706.169922</td>\n",
       "      <td>25391.960938</td>\n",
       "      <td>26703.320313</td>\n",
       "      <td>26703.320313</td>\n",
       "      <td>637200000</td>\n",
       "    </tr>\n",
       "    <tr>\n",
       "      <th>1</th>\n",
       "      <td>56</td>\n",
       "      <td>2020-03-03</td>\n",
       "      <td>26762.470703</td>\n",
       "      <td>27084.589844</td>\n",
       "      <td>25706.279297</td>\n",
       "      <td>25917.410156</td>\n",
       "      <td>25917.410156</td>\n",
       "      <td>647080000</td>\n",
       "    </tr>\n",
       "    <tr>\n",
       "      <th>2</th>\n",
       "      <td>57</td>\n",
       "      <td>2020-03-04</td>\n",
       "      <td>26383.679688</td>\n",
       "      <td>27102.339844</td>\n",
       "      <td>26286.310547</td>\n",
       "      <td>27090.859375</td>\n",
       "      <td>27090.859375</td>\n",
       "      <td>457590000</td>\n",
       "    </tr>\n",
       "    <tr>\n",
       "      <th>3</th>\n",
       "      <td>58</td>\n",
       "      <td>2020-03-05</td>\n",
       "      <td>26671.919922</td>\n",
       "      <td>26671.919922</td>\n",
       "      <td>25943.330078</td>\n",
       "      <td>26121.279297</td>\n",
       "      <td>26121.279297</td>\n",
       "      <td>477370000</td>\n",
       "    </tr>\n",
       "    <tr>\n",
       "      <th>4</th>\n",
       "      <td>59</td>\n",
       "      <td>2020-03-06</td>\n",
       "      <td>25457.210938</td>\n",
       "      <td>25994.380859</td>\n",
       "      <td>25226.619141</td>\n",
       "      <td>25864.779297</td>\n",
       "      <td>25864.779297</td>\n",
       "      <td>599780000</td>\n",
       "    </tr>\n",
       "  </tbody>\n",
       "</table>\n",
       "</div>"
      ],
      "text/plain": [
       "   index        Date          Open          High           Low         Close  \\\n",
       "0     55  2020-03-02  25590.509766  26706.169922  25391.960938  26703.320313   \n",
       "1     56  2020-03-03  26762.470703  27084.589844  25706.279297  25917.410156   \n",
       "2     57  2020-03-04  26383.679688  27102.339844  26286.310547  27090.859375   \n",
       "3     58  2020-03-05  26671.919922  26671.919922  25943.330078  26121.279297   \n",
       "4     59  2020-03-06  25457.210938  25994.380859  25226.619141  25864.779297   \n",
       "\n",
       "      Adj Close     Volume  \n",
       "0  26703.320313  637200000  \n",
       "1  25917.410156  647080000  \n",
       "2  27090.859375  457590000  \n",
       "3  26121.279297  477370000  \n",
       "4  25864.779297  599780000  "
      ]
     },
     "execution_count": 53,
     "metadata": {},
     "output_type": "execute_result"
    }
   ],
   "source": [
    "#Check to see that all worked out\n",
    "stock.head()"
   ]
  },
  {
   "cell_type": "code",
   "execution_count": 54,
   "metadata": {},
   "outputs": [
    {
     "data": {
      "text/html": [
       "<div>\n",
       "<style scoped>\n",
       "    .dataframe tbody tr th:only-of-type {\n",
       "        vertical-align: middle;\n",
       "    }\n",
       "\n",
       "    .dataframe tbody tr th {\n",
       "        vertical-align: top;\n",
       "    }\n",
       "\n",
       "    .dataframe thead th {\n",
       "        text-align: right;\n",
       "    }\n",
       "</style>\n",
       "<table border=\"1\" class=\"dataframe\">\n",
       "  <thead>\n",
       "    <tr style=\"text-align: right;\">\n",
       "      <th></th>\n",
       "      <th>index</th>\n",
       "      <th>Entity</th>\n",
       "      <th>Code</th>\n",
       "      <th>Date</th>\n",
       "      <th>Daily new confirmed cases of COVID-19</th>\n",
       "      <th>Daily new confirmed deaths due to COVID-19</th>\n",
       "    </tr>\n",
       "  </thead>\n",
       "  <tbody>\n",
       "    <tr>\n",
       "      <th>0</th>\n",
       "      <td>61551</td>\n",
       "      <td>United States</td>\n",
       "      <td>USA</td>\n",
       "      <td>2020-03-01</td>\n",
       "      <td>7</td>\n",
       "      <td>0</td>\n",
       "    </tr>\n",
       "    <tr>\n",
       "      <th>1</th>\n",
       "      <td>61552</td>\n",
       "      <td>United States</td>\n",
       "      <td>USA</td>\n",
       "      <td>2020-03-02</td>\n",
       "      <td>23</td>\n",
       "      <td>5</td>\n",
       "    </tr>\n",
       "    <tr>\n",
       "      <th>2</th>\n",
       "      <td>61553</td>\n",
       "      <td>United States</td>\n",
       "      <td>USA</td>\n",
       "      <td>2020-03-03</td>\n",
       "      <td>19</td>\n",
       "      <td>1</td>\n",
       "    </tr>\n",
       "    <tr>\n",
       "      <th>3</th>\n",
       "      <td>61554</td>\n",
       "      <td>United States</td>\n",
       "      <td>USA</td>\n",
       "      <td>2020-03-04</td>\n",
       "      <td>33</td>\n",
       "      <td>4</td>\n",
       "    </tr>\n",
       "    <tr>\n",
       "      <th>4</th>\n",
       "      <td>61555</td>\n",
       "      <td>United States</td>\n",
       "      <td>USA</td>\n",
       "      <td>2020-03-05</td>\n",
       "      <td>77</td>\n",
       "      <td>1</td>\n",
       "    </tr>\n",
       "  </tbody>\n",
       "</table>\n",
       "</div>"
      ],
      "text/plain": [
       "   index         Entity Code        Date  \\\n",
       "0  61551  United States  USA  2020-03-01   \n",
       "1  61552  United States  USA  2020-03-02   \n",
       "2  61553  United States  USA  2020-03-03   \n",
       "3  61554  United States  USA  2020-03-04   \n",
       "4  61555  United States  USA  2020-03-05   \n",
       "\n",
       "   Daily new confirmed cases of COVID-19  \\\n",
       "0                                      7   \n",
       "1                                     23   \n",
       "2                                     19   \n",
       "3                                     33   \n",
       "4                                     77   \n",
       "\n",
       "   Daily new confirmed deaths due to COVID-19  \n",
       "0                                           0  \n",
       "1                                           5  \n",
       "2                                           1  \n",
       "3                                           4  \n",
       "4                                           1  "
      ]
     },
     "execution_count": 54,
     "metadata": {},
     "output_type": "execute_result"
    }
   ],
   "source": [
    "usa_covid.head()"
   ]
  },
  {
   "cell_type": "code",
   "execution_count": 56,
   "metadata": {},
   "outputs": [],
   "source": [
    "#Drop the index columns\n",
    "stock.drop(labels = 'index', axis = 1, inplace = True)\n",
    "usa_covid.drop(labels = 'index', axis = 1, inplace = True)"
   ]
  },
  {
   "cell_type": "code",
   "execution_count": 57,
   "metadata": {},
   "outputs": [
    {
     "data": {
      "text/html": [
       "<div>\n",
       "<style scoped>\n",
       "    .dataframe tbody tr th:only-of-type {\n",
       "        vertical-align: middle;\n",
       "    }\n",
       "\n",
       "    .dataframe tbody tr th {\n",
       "        vertical-align: top;\n",
       "    }\n",
       "\n",
       "    .dataframe thead th {\n",
       "        text-align: right;\n",
       "    }\n",
       "</style>\n",
       "<table border=\"1\" class=\"dataframe\">\n",
       "  <thead>\n",
       "    <tr style=\"text-align: right;\">\n",
       "      <th></th>\n",
       "      <th>Date</th>\n",
       "      <th>Open</th>\n",
       "      <th>High</th>\n",
       "      <th>Low</th>\n",
       "      <th>Close</th>\n",
       "      <th>Adj Close</th>\n",
       "      <th>Volume</th>\n",
       "    </tr>\n",
       "  </thead>\n",
       "  <tbody>\n",
       "    <tr>\n",
       "      <th>0</th>\n",
       "      <td>2020-03-02</td>\n",
       "      <td>25590.509766</td>\n",
       "      <td>26706.169922</td>\n",
       "      <td>25391.960938</td>\n",
       "      <td>26703.320313</td>\n",
       "      <td>26703.320313</td>\n",
       "      <td>637200000</td>\n",
       "    </tr>\n",
       "    <tr>\n",
       "      <th>1</th>\n",
       "      <td>2020-03-03</td>\n",
       "      <td>26762.470703</td>\n",
       "      <td>27084.589844</td>\n",
       "      <td>25706.279297</td>\n",
       "      <td>25917.410156</td>\n",
       "      <td>25917.410156</td>\n",
       "      <td>647080000</td>\n",
       "    </tr>\n",
       "    <tr>\n",
       "      <th>2</th>\n",
       "      <td>2020-03-04</td>\n",
       "      <td>26383.679688</td>\n",
       "      <td>27102.339844</td>\n",
       "      <td>26286.310547</td>\n",
       "      <td>27090.859375</td>\n",
       "      <td>27090.859375</td>\n",
       "      <td>457590000</td>\n",
       "    </tr>\n",
       "    <tr>\n",
       "      <th>3</th>\n",
       "      <td>2020-03-05</td>\n",
       "      <td>26671.919922</td>\n",
       "      <td>26671.919922</td>\n",
       "      <td>25943.330078</td>\n",
       "      <td>26121.279297</td>\n",
       "      <td>26121.279297</td>\n",
       "      <td>477370000</td>\n",
       "    </tr>\n",
       "    <tr>\n",
       "      <th>4</th>\n",
       "      <td>2020-03-06</td>\n",
       "      <td>25457.210938</td>\n",
       "      <td>25994.380859</td>\n",
       "      <td>25226.619141</td>\n",
       "      <td>25864.779297</td>\n",
       "      <td>25864.779297</td>\n",
       "      <td>599780000</td>\n",
       "    </tr>\n",
       "  </tbody>\n",
       "</table>\n",
       "</div>"
      ],
      "text/plain": [
       "         Date          Open          High           Low         Close  \\\n",
       "0  2020-03-02  25590.509766  26706.169922  25391.960938  26703.320313   \n",
       "1  2020-03-03  26762.470703  27084.589844  25706.279297  25917.410156   \n",
       "2  2020-03-04  26383.679688  27102.339844  26286.310547  27090.859375   \n",
       "3  2020-03-05  26671.919922  26671.919922  25943.330078  26121.279297   \n",
       "4  2020-03-06  25457.210938  25994.380859  25226.619141  25864.779297   \n",
       "\n",
       "      Adj Close     Volume  \n",
       "0  26703.320313  637200000  \n",
       "1  25917.410156  647080000  \n",
       "2  27090.859375  457590000  \n",
       "3  26121.279297  477370000  \n",
       "4  25864.779297  599780000  "
      ]
     },
     "execution_count": 57,
     "metadata": {},
     "output_type": "execute_result"
    }
   ],
   "source": [
    "#Check to see it worked\n",
    "stock.head()"
   ]
  },
  {
   "cell_type": "code",
   "execution_count": 60,
   "metadata": {},
   "outputs": [
    {
     "data": {
      "text/html": [
       "<div>\n",
       "<style scoped>\n",
       "    .dataframe tbody tr th:only-of-type {\n",
       "        vertical-align: middle;\n",
       "    }\n",
       "\n",
       "    .dataframe tbody tr th {\n",
       "        vertical-align: top;\n",
       "    }\n",
       "\n",
       "    .dataframe thead th {\n",
       "        text-align: right;\n",
       "    }\n",
       "</style>\n",
       "<table border=\"1\" class=\"dataframe\">\n",
       "  <thead>\n",
       "    <tr style=\"text-align: right;\">\n",
       "      <th></th>\n",
       "      <th>Entity</th>\n",
       "      <th>Code</th>\n",
       "      <th>Date</th>\n",
       "      <th>Daily new confirmed cases of COVID-19</th>\n",
       "      <th>Daily new confirmed deaths due to COVID-19</th>\n",
       "    </tr>\n",
       "  </thead>\n",
       "  <tbody>\n",
       "    <tr>\n",
       "      <th>0</th>\n",
       "      <td>United States</td>\n",
       "      <td>USA</td>\n",
       "      <td>2020-03-01</td>\n",
       "      <td>7</td>\n",
       "      <td>0</td>\n",
       "    </tr>\n",
       "    <tr>\n",
       "      <th>1</th>\n",
       "      <td>United States</td>\n",
       "      <td>USA</td>\n",
       "      <td>2020-03-02</td>\n",
       "      <td>23</td>\n",
       "      <td>5</td>\n",
       "    </tr>\n",
       "    <tr>\n",
       "      <th>2</th>\n",
       "      <td>United States</td>\n",
       "      <td>USA</td>\n",
       "      <td>2020-03-03</td>\n",
       "      <td>19</td>\n",
       "      <td>1</td>\n",
       "    </tr>\n",
       "    <tr>\n",
       "      <th>3</th>\n",
       "      <td>United States</td>\n",
       "      <td>USA</td>\n",
       "      <td>2020-03-04</td>\n",
       "      <td>33</td>\n",
       "      <td>4</td>\n",
       "    </tr>\n",
       "    <tr>\n",
       "      <th>4</th>\n",
       "      <td>United States</td>\n",
       "      <td>USA</td>\n",
       "      <td>2020-03-05</td>\n",
       "      <td>77</td>\n",
       "      <td>1</td>\n",
       "    </tr>\n",
       "  </tbody>\n",
       "</table>\n",
       "</div>"
      ],
      "text/plain": [
       "          Entity Code        Date  Daily new confirmed cases of COVID-19  \\\n",
       "0  United States  USA  2020-03-01                                      7   \n",
       "1  United States  USA  2020-03-02                                     23   \n",
       "2  United States  USA  2020-03-03                                     19   \n",
       "3  United States  USA  2020-03-04                                     33   \n",
       "4  United States  USA  2020-03-05                                     77   \n",
       "\n",
       "   Daily new confirmed deaths due to COVID-19  \n",
       "0                                           0  \n",
       "1                                           5  \n",
       "2                                           1  \n",
       "3                                           4  \n",
       "4                                           1  "
      ]
     },
     "execution_count": 60,
     "metadata": {},
     "output_type": "execute_result"
    }
   ],
   "source": [
    "usa_covid.head()"
   ]
  },
  {
   "cell_type": "code",
   "execution_count": 62,
   "metadata": {},
   "outputs": [
    {
     "data": {
      "text/plain": [
       "284"
      ]
     },
     "execution_count": 62,
     "metadata": {},
     "output_type": "execute_result"
    }
   ],
   "source": [
    "len(usa_covid)"
   ]
  },
  {
   "cell_type": "code",
   "execution_count": 63,
   "metadata": {},
   "outputs": [
    {
     "data": {
      "text/plain": [
       "198"
      ]
     },
     "execution_count": 63,
     "metadata": {},
     "output_type": "execute_result"
    }
   ],
   "source": [
    "len(stock)"
   ]
  },
  {
   "cell_type": "code",
   "execution_count": 96,
   "metadata": {},
   "outputs": [],
   "source": [
    "#Attempt to merge covid and stock\n",
    "main_df = usa_covid.merge(stock, how = 'left', left_on = 'Date', right_on = 'Date')"
   ]
  },
  {
   "cell_type": "code",
   "execution_count": 108,
   "metadata": {},
   "outputs": [],
   "source": [
    "#Change the NBA dataframe and Mask dataframe to match the dates\n",
    "\n",
    "nba = nba.iloc[60 : 344]\n",
    "masks = masks.iloc[60 : 344]"
   ]
  },
  {
   "cell_type": "code",
   "execution_count": 109,
   "metadata": {},
   "outputs": [],
   "source": [
    "nba = nba.reset_index(drop = True)"
   ]
  },
  {
   "cell_type": "code",
   "execution_count": 110,
   "metadata": {},
   "outputs": [],
   "source": [
    "masks = masks.reset_index(drop = True)"
   ]
  },
  {
   "cell_type": "code",
   "execution_count": 114,
   "metadata": {},
   "outputs": [],
   "source": [
    "#Add masks and nba to the main dataframe\n",
    "main_df['Sports'] = nba['Games']\n",
    "main_df['Masks'] = masks['recommendation']"
   ]
  },
  {
   "cell_type": "code",
   "execution_count": 115,
   "metadata": {},
   "outputs": [
    {
     "data": {
      "text/html": [
       "<div>\n",
       "<style scoped>\n",
       "    .dataframe tbody tr th:only-of-type {\n",
       "        vertical-align: middle;\n",
       "    }\n",
       "\n",
       "    .dataframe tbody tr th {\n",
       "        vertical-align: top;\n",
       "    }\n",
       "\n",
       "    .dataframe thead th {\n",
       "        text-align: right;\n",
       "    }\n",
       "</style>\n",
       "<table border=\"1\" class=\"dataframe\">\n",
       "  <thead>\n",
       "    <tr style=\"text-align: right;\">\n",
       "      <th></th>\n",
       "      <th>Entity</th>\n",
       "      <th>Code</th>\n",
       "      <th>Date</th>\n",
       "      <th>Daily new confirmed cases of COVID-19</th>\n",
       "      <th>Daily new confirmed deaths due to COVID-19</th>\n",
       "      <th>Open</th>\n",
       "      <th>High</th>\n",
       "      <th>Low</th>\n",
       "      <th>Close</th>\n",
       "      <th>Adj Close</th>\n",
       "      <th>Volume</th>\n",
       "      <th>Sports</th>\n",
       "      <th>Masks</th>\n",
       "    </tr>\n",
       "  </thead>\n",
       "  <tbody>\n",
       "    <tr>\n",
       "      <th>0</th>\n",
       "      <td>United States</td>\n",
       "      <td>USA</td>\n",
       "      <td>2020-03-01</td>\n",
       "      <td>7</td>\n",
       "      <td>0</td>\n",
       "      <td>NaN</td>\n",
       "      <td>NaN</td>\n",
       "      <td>NaN</td>\n",
       "      <td>NaN</td>\n",
       "      <td>NaN</td>\n",
       "      <td>NaN</td>\n",
       "      <td>1</td>\n",
       "      <td>0</td>\n",
       "    </tr>\n",
       "    <tr>\n",
       "      <th>1</th>\n",
       "      <td>United States</td>\n",
       "      <td>USA</td>\n",
       "      <td>2020-03-02</td>\n",
       "      <td>23</td>\n",
       "      <td>5</td>\n",
       "      <td>25590.509766</td>\n",
       "      <td>26706.169922</td>\n",
       "      <td>25391.960938</td>\n",
       "      <td>26703.320313</td>\n",
       "      <td>26703.320313</td>\n",
       "      <td>637200000.0</td>\n",
       "      <td>1</td>\n",
       "      <td>0</td>\n",
       "    </tr>\n",
       "    <tr>\n",
       "      <th>2</th>\n",
       "      <td>United States</td>\n",
       "      <td>USA</td>\n",
       "      <td>2020-03-03</td>\n",
       "      <td>19</td>\n",
       "      <td>1</td>\n",
       "      <td>26762.470703</td>\n",
       "      <td>27084.589844</td>\n",
       "      <td>25706.279297</td>\n",
       "      <td>25917.410156</td>\n",
       "      <td>25917.410156</td>\n",
       "      <td>647080000.0</td>\n",
       "      <td>1</td>\n",
       "      <td>0</td>\n",
       "    </tr>\n",
       "    <tr>\n",
       "      <th>3</th>\n",
       "      <td>United States</td>\n",
       "      <td>USA</td>\n",
       "      <td>2020-03-04</td>\n",
       "      <td>33</td>\n",
       "      <td>4</td>\n",
       "      <td>26383.679688</td>\n",
       "      <td>27102.339844</td>\n",
       "      <td>26286.310547</td>\n",
       "      <td>27090.859375</td>\n",
       "      <td>27090.859375</td>\n",
       "      <td>457590000.0</td>\n",
       "      <td>1</td>\n",
       "      <td>0</td>\n",
       "    </tr>\n",
       "    <tr>\n",
       "      <th>4</th>\n",
       "      <td>United States</td>\n",
       "      <td>USA</td>\n",
       "      <td>2020-03-05</td>\n",
       "      <td>77</td>\n",
       "      <td>1</td>\n",
       "      <td>26671.919922</td>\n",
       "      <td>26671.919922</td>\n",
       "      <td>25943.330078</td>\n",
       "      <td>26121.279297</td>\n",
       "      <td>26121.279297</td>\n",
       "      <td>477370000.0</td>\n",
       "      <td>1</td>\n",
       "      <td>0</td>\n",
       "    </tr>\n",
       "  </tbody>\n",
       "</table>\n",
       "</div>"
      ],
      "text/plain": [
       "          Entity Code        Date  Daily new confirmed cases of COVID-19  \\\n",
       "0  United States  USA  2020-03-01                                      7   \n",
       "1  United States  USA  2020-03-02                                     23   \n",
       "2  United States  USA  2020-03-03                                     19   \n",
       "3  United States  USA  2020-03-04                                     33   \n",
       "4  United States  USA  2020-03-05                                     77   \n",
       "\n",
       "   Daily new confirmed deaths due to COVID-19          Open          High  \\\n",
       "0                                           0           NaN           NaN   \n",
       "1                                           5  25590.509766  26706.169922   \n",
       "2                                           1  26762.470703  27084.589844   \n",
       "3                                           4  26383.679688  27102.339844   \n",
       "4                                           1  26671.919922  26671.919922   \n",
       "\n",
       "            Low         Close     Adj Close       Volume  Sports  Masks  \n",
       "0           NaN           NaN           NaN          NaN       1      0  \n",
       "1  25391.960938  26703.320313  26703.320313  637200000.0       1      0  \n",
       "2  25706.279297  25917.410156  25917.410156  647080000.0       1      0  \n",
       "3  26286.310547  27090.859375  27090.859375  457590000.0       1      0  \n",
       "4  25943.330078  26121.279297  26121.279297  477370000.0       1      0  "
      ]
     },
     "execution_count": 115,
     "metadata": {},
     "output_type": "execute_result"
    }
   ],
   "source": [
    "#Check to see if it's all there\n",
    "main_df.head()"
   ]
  },
  {
   "cell_type": "code",
   "execution_count": 116,
   "metadata": {},
   "outputs": [],
   "source": [
    "#Drop entity and code\n",
    "main_df.drop(labels = ['Entity', 'Code'], axis = 1, inplace = True)"
   ]
  },
  {
   "cell_type": "code",
   "execution_count": 122,
   "metadata": {},
   "outputs": [],
   "source": [
    "main_df.rename({'Daily new confirmed cases of COVID-19' : 'Cases', 'Daily new confirmed deaths due to COVID-19' : 'Deaths'}, axis = 1, inplace = True)"
   ]
  },
  {
   "cell_type": "code",
   "execution_count": 124,
   "metadata": {},
   "outputs": [],
   "source": [
    "#Replace NANs \n",
    "main_df.fillna({'Open' : main_df['Open'].median(), \n",
    "               'High' : main_df['High'].median(),\n",
    "               'Low' : main_df['Low'].median(), \n",
    "               'Close' : main_df['Close'].median(),\n",
    "               'Adj Close' : main_df['Adj Close'].median(),\n",
    "               'Volume' : main_df['Volume'].median()}, inplace = True)"
   ]
  },
  {
   "cell_type": "code",
   "execution_count": 128,
   "metadata": {},
   "outputs": [
    {
     "data": {
      "text/plain": [
       "Date         0\n",
       "Cases        0\n",
       "Deaths       0\n",
       "Open         0\n",
       "High         0\n",
       "Low          0\n",
       "Close        0\n",
       "Adj Close    0\n",
       "Volume       0\n",
       "Sports       0\n",
       "Masks        0\n",
       "dtype: int64"
      ]
     },
     "execution_count": 128,
     "metadata": {},
     "output_type": "execute_result"
    }
   ],
   "source": [
    "#Check it out\n",
    "main_df.isna().sum()"
   ]
  },
  {
   "cell_type": "code",
   "execution_count": 139,
   "metadata": {},
   "outputs": [],
   "source": [
    "#Finally add the tsa dataframe\n",
    "main_df['Travelers 2020'] = tsa_data['Total Traveler Throughput']\n",
    "main_df['Travelers 2019'] = tsa_data['Total Traveler Throughput (1 Year Ago - Same Weekday)']"
   ]
  },
  {
   "cell_type": "code",
   "execution_count": 140,
   "metadata": {},
   "outputs": [
    {
     "data": {
      "text/html": [
       "<div>\n",
       "<style scoped>\n",
       "    .dataframe tbody tr th:only-of-type {\n",
       "        vertical-align: middle;\n",
       "    }\n",
       "\n",
       "    .dataframe tbody tr th {\n",
       "        vertical-align: top;\n",
       "    }\n",
       "\n",
       "    .dataframe thead th {\n",
       "        text-align: right;\n",
       "    }\n",
       "</style>\n",
       "<table border=\"1\" class=\"dataframe\">\n",
       "  <thead>\n",
       "    <tr style=\"text-align: right;\">\n",
       "      <th></th>\n",
       "      <th>Date</th>\n",
       "      <th>Cases</th>\n",
       "      <th>Deaths</th>\n",
       "      <th>Open</th>\n",
       "      <th>High</th>\n",
       "      <th>Low</th>\n",
       "      <th>Close</th>\n",
       "      <th>Adj Close</th>\n",
       "      <th>Volume</th>\n",
       "      <th>Sports</th>\n",
       "      <th>Masks</th>\n",
       "      <th>Travelers 2020</th>\n",
       "      <th>Travelers 2019</th>\n",
       "    </tr>\n",
       "  </thead>\n",
       "  <tbody>\n",
       "    <tr>\n",
       "      <th>0</th>\n",
       "      <td>2020-03-01</td>\n",
       "      <td>7</td>\n",
       "      <td>0</td>\n",
       "      <td>26668.264649</td>\n",
       "      <td>26855.940429</td>\n",
       "      <td>26500.794922</td>\n",
       "      <td>26668.174805</td>\n",
       "      <td>26668.174805</td>\n",
       "      <td>401285000.0</td>\n",
       "      <td>1</td>\n",
       "      <td>0</td>\n",
       "      <td>564,372</td>\n",
       "      <td>2,020,488</td>\n",
       "    </tr>\n",
       "    <tr>\n",
       "      <th>1</th>\n",
       "      <td>2020-03-02</td>\n",
       "      <td>23</td>\n",
       "      <td>5</td>\n",
       "      <td>25590.509766</td>\n",
       "      <td>26706.169922</td>\n",
       "      <td>25391.960938</td>\n",
       "      <td>26703.320313</td>\n",
       "      <td>26703.320313</td>\n",
       "      <td>637200000.0</td>\n",
       "      <td>1</td>\n",
       "      <td>0</td>\n",
       "      <td>501,513</td>\n",
       "      <td>1,897,051</td>\n",
       "    </tr>\n",
       "    <tr>\n",
       "      <th>2</th>\n",
       "      <td>2020-03-03</td>\n",
       "      <td>19</td>\n",
       "      <td>1</td>\n",
       "      <td>26762.470703</td>\n",
       "      <td>27084.589844</td>\n",
       "      <td>25706.279297</td>\n",
       "      <td>25917.410156</td>\n",
       "      <td>25917.410156</td>\n",
       "      <td>647080000.0</td>\n",
       "      <td>1</td>\n",
       "      <td>0</td>\n",
       "      <td>703,546</td>\n",
       "      <td>2,226,290</td>\n",
       "    </tr>\n",
       "    <tr>\n",
       "      <th>3</th>\n",
       "      <td>2020-03-04</td>\n",
       "      <td>33</td>\n",
       "      <td>4</td>\n",
       "      <td>26383.679688</td>\n",
       "      <td>27102.339844</td>\n",
       "      <td>26286.310547</td>\n",
       "      <td>27090.859375</td>\n",
       "      <td>27090.859375</td>\n",
       "      <td>457590000.0</td>\n",
       "      <td>1</td>\n",
       "      <td>0</td>\n",
       "      <td>837,137</td>\n",
       "      <td>2,292,079</td>\n",
       "    </tr>\n",
       "    <tr>\n",
       "      <th>4</th>\n",
       "      <td>2020-03-05</td>\n",
       "      <td>77</td>\n",
       "      <td>1</td>\n",
       "      <td>26671.919922</td>\n",
       "      <td>26671.919922</td>\n",
       "      <td>25943.330078</td>\n",
       "      <td>26121.279297</td>\n",
       "      <td>26121.279297</td>\n",
       "      <td>477370000.0</td>\n",
       "      <td>1</td>\n",
       "      <td>0</td>\n",
       "      <td>629,430</td>\n",
       "      <td>1,755,801</td>\n",
       "    </tr>\n",
       "    <tr>\n",
       "      <th>...</th>\n",
       "      <td>...</td>\n",
       "      <td>...</td>\n",
       "      <td>...</td>\n",
       "      <td>...</td>\n",
       "      <td>...</td>\n",
       "      <td>...</td>\n",
       "      <td>...</td>\n",
       "      <td>...</td>\n",
       "      <td>...</td>\n",
       "      <td>...</td>\n",
       "      <td>...</td>\n",
       "      <td>...</td>\n",
       "      <td>...</td>\n",
       "    </tr>\n",
       "    <tr>\n",
       "      <th>279</th>\n",
       "      <td>2020-12-05</td>\n",
       "      <td>213881</td>\n",
       "      <td>2254</td>\n",
       "      <td>26668.264649</td>\n",
       "      <td>26855.940429</td>\n",
       "      <td>26500.794922</td>\n",
       "      <td>26668.174805</td>\n",
       "      <td>26668.174805</td>\n",
       "      <td>401285000.0</td>\n",
       "      <td>1</td>\n",
       "      <td>1</td>\n",
       "      <td>2,130,015</td>\n",
       "      <td>2,402,692</td>\n",
       "    </tr>\n",
       "    <tr>\n",
       "      <th>280</th>\n",
       "      <td>2020-12-06</td>\n",
       "      <td>175664</td>\n",
       "      <td>1113</td>\n",
       "      <td>26668.264649</td>\n",
       "      <td>26855.940429</td>\n",
       "      <td>26500.794922</td>\n",
       "      <td>26668.174805</td>\n",
       "      <td>26668.174805</td>\n",
       "      <td>401285000.0</td>\n",
       "      <td>1</td>\n",
       "      <td>1</td>\n",
       "      <td>1,877,401</td>\n",
       "      <td>2,143,619</td>\n",
       "    </tr>\n",
       "    <tr>\n",
       "      <th>281</th>\n",
       "      <td>2020-12-07</td>\n",
       "      <td>192435</td>\n",
       "      <td>1404</td>\n",
       "      <td>30233.029297</td>\n",
       "      <td>30233.029297</td>\n",
       "      <td>29967.220703</td>\n",
       "      <td>30069.789063</td>\n",
       "      <td>30069.789063</td>\n",
       "      <td>365810000.0</td>\n",
       "      <td>1</td>\n",
       "      <td>1</td>\n",
       "      <td>1,736,393</td>\n",
       "      <td>1,979,558</td>\n",
       "    </tr>\n",
       "    <tr>\n",
       "      <th>282</th>\n",
       "      <td>2020-12-08</td>\n",
       "      <td>215878</td>\n",
       "      <td>2546</td>\n",
       "      <td>29997.949219</td>\n",
       "      <td>30246.220703</td>\n",
       "      <td>29972.070313</td>\n",
       "      <td>30173.880859</td>\n",
       "      <td>30173.880859</td>\n",
       "      <td>311190000.0</td>\n",
       "      <td>1</td>\n",
       "      <td>1</td>\n",
       "      <td>2,089,641</td>\n",
       "      <td>2,257,920</td>\n",
       "    </tr>\n",
       "    <tr>\n",
       "      <th>283</th>\n",
       "      <td>2020-12-09</td>\n",
       "      <td>221267</td>\n",
       "      <td>3124</td>\n",
       "      <td>30229.810547</td>\n",
       "      <td>30319.699219</td>\n",
       "      <td>29951.849609</td>\n",
       "      <td>30068.810547</td>\n",
       "      <td>30068.810547</td>\n",
       "      <td>380520000.0</td>\n",
       "      <td>1</td>\n",
       "      <td>1</td>\n",
       "      <td>2,280,522</td>\n",
       "      <td>2,301,439</td>\n",
       "    </tr>\n",
       "  </tbody>\n",
       "</table>\n",
       "<p>284 rows × 13 columns</p>\n",
       "</div>"
      ],
      "text/plain": [
       "           Date   Cases  Deaths          Open          High           Low  \\\n",
       "0    2020-03-01       7       0  26668.264649  26855.940429  26500.794922   \n",
       "1    2020-03-02      23       5  25590.509766  26706.169922  25391.960938   \n",
       "2    2020-03-03      19       1  26762.470703  27084.589844  25706.279297   \n",
       "3    2020-03-04      33       4  26383.679688  27102.339844  26286.310547   \n",
       "4    2020-03-05      77       1  26671.919922  26671.919922  25943.330078   \n",
       "..          ...     ...     ...           ...           ...           ...   \n",
       "279  2020-12-05  213881    2254  26668.264649  26855.940429  26500.794922   \n",
       "280  2020-12-06  175664    1113  26668.264649  26855.940429  26500.794922   \n",
       "281  2020-12-07  192435    1404  30233.029297  30233.029297  29967.220703   \n",
       "282  2020-12-08  215878    2546  29997.949219  30246.220703  29972.070313   \n",
       "283  2020-12-09  221267    3124  30229.810547  30319.699219  29951.849609   \n",
       "\n",
       "            Close     Adj Close       Volume  Sports  Masks Travelers 2020  \\\n",
       "0    26668.174805  26668.174805  401285000.0       1      0        564,372   \n",
       "1    26703.320313  26703.320313  637200000.0       1      0        501,513   \n",
       "2    25917.410156  25917.410156  647080000.0       1      0        703,546   \n",
       "3    27090.859375  27090.859375  457590000.0       1      0        837,137   \n",
       "4    26121.279297  26121.279297  477370000.0       1      0        629,430   \n",
       "..            ...           ...          ...     ...    ...            ...   \n",
       "279  26668.174805  26668.174805  401285000.0       1      1      2,130,015   \n",
       "280  26668.174805  26668.174805  401285000.0       1      1      1,877,401   \n",
       "281  30069.789063  30069.789063  365810000.0       1      1      1,736,393   \n",
       "282  30173.880859  30173.880859  311190000.0       1      1      2,089,641   \n",
       "283  30068.810547  30068.810547  380520000.0       1      1      2,280,522   \n",
       "\n",
       "    Travelers 2019  \n",
       "0        2,020,488  \n",
       "1        1,897,051  \n",
       "2        2,226,290  \n",
       "3        2,292,079  \n",
       "4        1,755,801  \n",
       "..             ...  \n",
       "279      2,402,692  \n",
       "280      2,143,619  \n",
       "281      1,979,558  \n",
       "282      2,257,920  \n",
       "283      2,301,439  \n",
       "\n",
       "[284 rows x 13 columns]"
      ]
     },
     "execution_count": 140,
     "metadata": {},
     "output_type": "execute_result"
    }
   ],
   "source": [
    "#Look at final product?\n",
    "main_df"
   ]
  },
  {
   "cell_type": "markdown",
   "metadata": {},
   "source": [
    "Our dataframe is all prepared and ready to do some EDA."
   ]
  },
  {
   "cell_type": "markdown",
   "metadata": {},
   "source": [
    "## EDA"
   ]
  },
  {
   "cell_type": "code",
   "execution_count": 141,
   "metadata": {},
   "outputs": [
    {
     "data": {
      "text/html": [
       "<div>\n",
       "<style scoped>\n",
       "    .dataframe tbody tr th:only-of-type {\n",
       "        vertical-align: middle;\n",
       "    }\n",
       "\n",
       "    .dataframe tbody tr th {\n",
       "        vertical-align: top;\n",
       "    }\n",
       "\n",
       "    .dataframe thead th {\n",
       "        text-align: right;\n",
       "    }\n",
       "</style>\n",
       "<table border=\"1\" class=\"dataframe\">\n",
       "  <thead>\n",
       "    <tr style=\"text-align: right;\">\n",
       "      <th></th>\n",
       "      <th>Cases</th>\n",
       "      <th>Deaths</th>\n",
       "      <th>Open</th>\n",
       "      <th>High</th>\n",
       "      <th>Low</th>\n",
       "      <th>Close</th>\n",
       "      <th>Adj Close</th>\n",
       "      <th>Volume</th>\n",
       "      <th>Sports</th>\n",
       "      <th>Masks</th>\n",
       "    </tr>\n",
       "  </thead>\n",
       "  <tbody>\n",
       "    <tr>\n",
       "      <th>count</th>\n",
       "      <td>284.000000</td>\n",
       "      <td>284.000000</td>\n",
       "      <td>284.000000</td>\n",
       "      <td>284.000000</td>\n",
       "      <td>284.000000</td>\n",
       "      <td>284.000000</td>\n",
       "      <td>284.000000</td>\n",
       "      <td>2.840000e+02</td>\n",
       "      <td>284.000000</td>\n",
       "      <td>284.000000</td>\n",
       "    </tr>\n",
       "    <tr>\n",
       "      <th>mean</th>\n",
       "      <td>54177.947183</td>\n",
       "      <td>1018.915493</td>\n",
       "      <td>26390.153733</td>\n",
       "      <td>26619.178649</td>\n",
       "      <td>26157.870468</td>\n",
       "      <td>26392.210869</td>\n",
       "      <td>26392.210869</td>\n",
       "      <td>4.298291e+08</td>\n",
       "      <td>0.584507</td>\n",
       "      <td>0.887324</td>\n",
       "    </tr>\n",
       "    <tr>\n",
       "      <th>std</th>\n",
       "      <td>48470.687826</td>\n",
       "      <td>649.333891</td>\n",
       "      <td>2063.128829</td>\n",
       "      <td>1986.881384</td>\n",
       "      <td>2152.148505</td>\n",
       "      <td>2064.710643</td>\n",
       "      <td>2064.710643</td>\n",
       "      <td>1.117051e+08</td>\n",
       "      <td>0.493677</td>\n",
       "      <td>0.316755</td>\n",
       "    </tr>\n",
       "    <tr>\n",
       "      <th>min</th>\n",
       "      <td>7.000000</td>\n",
       "      <td>0.000000</td>\n",
       "      <td>19028.359375</td>\n",
       "      <td>19121.009766</td>\n",
       "      <td>18213.650391</td>\n",
       "      <td>18591.929688</td>\n",
       "      <td>18591.929688</td>\n",
       "      <td>1.770400e+08</td>\n",
       "      <td>0.000000</td>\n",
       "      <td>0.000000</td>\n",
       "    </tr>\n",
       "    <tr>\n",
       "      <th>25%</th>\n",
       "      <td>25213.500000</td>\n",
       "      <td>537.250000</td>\n",
       "      <td>25900.005859</td>\n",
       "      <td>26102.789551</td>\n",
       "      <td>25609.060058</td>\n",
       "      <td>25855.424317</td>\n",
       "      <td>25855.424317</td>\n",
       "      <td>3.733825e+08</td>\n",
       "      <td>0.000000</td>\n",
       "      <td>1.000000</td>\n",
       "    </tr>\n",
       "    <tr>\n",
       "      <th>50%</th>\n",
       "      <td>40737.000000</td>\n",
       "      <td>940.500000</td>\n",
       "      <td>26668.264649</td>\n",
       "      <td>26855.940429</td>\n",
       "      <td>26500.794922</td>\n",
       "      <td>26668.174805</td>\n",
       "      <td>26668.174805</td>\n",
       "      <td>4.012850e+08</td>\n",
       "      <td>1.000000</td>\n",
       "      <td>1.000000</td>\n",
       "    </tr>\n",
       "    <tr>\n",
       "      <th>75%</th>\n",
       "      <td>61185.250000</td>\n",
       "      <td>1295.500000</td>\n",
       "      <td>27542.353027</td>\n",
       "      <td>27810.099610</td>\n",
       "      <td>27447.347656</td>\n",
       "      <td>27602.400391</td>\n",
       "      <td>27602.400391</td>\n",
       "      <td>4.402475e+08</td>\n",
       "      <td>1.000000</td>\n",
       "      <td>1.000000</td>\n",
       "    </tr>\n",
       "    <tr>\n",
       "      <th>max</th>\n",
       "      <td>227828.000000</td>\n",
       "      <td>3124.000000</td>\n",
       "      <td>30233.029297</td>\n",
       "      <td>30319.699219</td>\n",
       "      <td>29989.560547</td>\n",
       "      <td>30218.259766</td>\n",
       "      <td>30218.259766</td>\n",
       "      <td>9.082600e+08</td>\n",
       "      <td>1.000000</td>\n",
       "      <td>1.000000</td>\n",
       "    </tr>\n",
       "  </tbody>\n",
       "</table>\n",
       "</div>"
      ],
      "text/plain": [
       "               Cases       Deaths          Open          High           Low  \\\n",
       "count     284.000000   284.000000    284.000000    284.000000    284.000000   \n",
       "mean    54177.947183  1018.915493  26390.153733  26619.178649  26157.870468   \n",
       "std     48470.687826   649.333891   2063.128829   1986.881384   2152.148505   \n",
       "min         7.000000     0.000000  19028.359375  19121.009766  18213.650391   \n",
       "25%     25213.500000   537.250000  25900.005859  26102.789551  25609.060058   \n",
       "50%     40737.000000   940.500000  26668.264649  26855.940429  26500.794922   \n",
       "75%     61185.250000  1295.500000  27542.353027  27810.099610  27447.347656   \n",
       "max    227828.000000  3124.000000  30233.029297  30319.699219  29989.560547   \n",
       "\n",
       "              Close     Adj Close        Volume      Sports       Masks  \n",
       "count    284.000000    284.000000  2.840000e+02  284.000000  284.000000  \n",
       "mean   26392.210869  26392.210869  4.298291e+08    0.584507    0.887324  \n",
       "std     2064.710643   2064.710643  1.117051e+08    0.493677    0.316755  \n",
       "min    18591.929688  18591.929688  1.770400e+08    0.000000    0.000000  \n",
       "25%    25855.424317  25855.424317  3.733825e+08    0.000000    1.000000  \n",
       "50%    26668.174805  26668.174805  4.012850e+08    1.000000    1.000000  \n",
       "75%    27602.400391  27602.400391  4.402475e+08    1.000000    1.000000  \n",
       "max    30218.259766  30218.259766  9.082600e+08    1.000000    1.000000  "
      ]
     },
     "execution_count": 141,
     "metadata": {},
     "output_type": "execute_result"
    }
   ],
   "source": [
    "#Look at summary statistics\n",
    "main_df.describe()"
   ]
  },
  {
   "cell_type": "code",
   "execution_count": 158,
   "metadata": {},
   "outputs": [
    {
     "name": "stderr",
     "output_type": "stream",
     "text": [
      "C:\\Users\\thebs\\anaconda3\\lib\\site-packages\\ipykernel_launcher.py:3: SettingWithCopyWarning: \n",
      "A value is trying to be set on a copy of a slice from a DataFrame\n",
      "\n",
      "See the caveats in the documentation: https://pandas.pydata.org/pandas-docs/stable/user_guide/indexing.html#returning-a-view-versus-a-copy\n",
      "  This is separate from the ipykernel package so we can avoid doing imports until\n",
      "C:\\Users\\thebs\\anaconda3\\lib\\site-packages\\ipykernel_launcher.py:4: SettingWithCopyWarning: \n",
      "A value is trying to be set on a copy of a slice from a DataFrame\n",
      "\n",
      "See the caveats in the documentation: https://pandas.pydata.org/pandas-docs/stable/user_guide/indexing.html#returning-a-view-versus-a-copy\n",
      "  after removing the cwd from sys.path.\n"
     ]
    }
   ],
   "source": [
    "#Change Travelers data type\n",
    "for i in range(0, len(main_df)):\n",
    "    main_df['Travelers 2020'][i] = main_df['Travelers 2020'][i].replace(',', '')\n",
    "    main_df['Travelers 2019'][i] = main_df['Travelers 2019'][i].replace(',', '')"
   ]
  },
  {
   "cell_type": "code",
   "execution_count": 164,
   "metadata": {},
   "outputs": [],
   "source": [
    "main_df['Travelers 2020'] = pd.to_numeric(main_df['Travelers 2020'])\n",
    "main_df['Travelers 2019'] = pd.to_numeric(main_df['Travelers 2019'])"
   ]
  },
  {
   "cell_type": "code",
   "execution_count": 168,
   "metadata": {},
   "outputs": [
    {
     "data": {
      "text/html": [
       "<div>\n",
       "<style scoped>\n",
       "    .dataframe tbody tr th:only-of-type {\n",
       "        vertical-align: middle;\n",
       "    }\n",
       "\n",
       "    .dataframe tbody tr th {\n",
       "        vertical-align: top;\n",
       "    }\n",
       "\n",
       "    .dataframe thead th {\n",
       "        text-align: right;\n",
       "    }\n",
       "</style>\n",
       "<table border=\"1\" class=\"dataframe\">\n",
       "  <thead>\n",
       "    <tr style=\"text-align: right;\">\n",
       "      <th></th>\n",
       "      <th>Cases</th>\n",
       "      <th>Deaths</th>\n",
       "      <th>Open</th>\n",
       "      <th>High</th>\n",
       "      <th>Low</th>\n",
       "      <th>Close</th>\n",
       "      <th>Adj Close</th>\n",
       "      <th>Volume</th>\n",
       "      <th>Sports</th>\n",
       "      <th>Masks</th>\n",
       "      <th>Travelers 2020</th>\n",
       "      <th>Travelers 2019</th>\n",
       "    </tr>\n",
       "  </thead>\n",
       "  <tbody>\n",
       "    <tr>\n",
       "      <th>count</th>\n",
       "      <td>284.000000</td>\n",
       "      <td>284.000000</td>\n",
       "      <td>284.000000</td>\n",
       "      <td>284.000000</td>\n",
       "      <td>284.000000</td>\n",
       "      <td>284.000000</td>\n",
       "      <td>284.000000</td>\n",
       "      <td>2.840000e+02</td>\n",
       "      <td>284.000000</td>\n",
       "      <td>284.000000</td>\n",
       "      <td>2.840000e+02</td>\n",
       "      <td>2.840000e+02</td>\n",
       "    </tr>\n",
       "    <tr>\n",
       "      <th>mean</th>\n",
       "      <td>54177.947183</td>\n",
       "      <td>1018.915493</td>\n",
       "      <td>26390.153733</td>\n",
       "      <td>26619.178649</td>\n",
       "      <td>26157.870468</td>\n",
       "      <td>26392.210869</td>\n",
       "      <td>26392.210869</td>\n",
       "      <td>4.298291e+08</td>\n",
       "      <td>0.584507</td>\n",
       "      <td>0.887324</td>\n",
       "      <td>6.383851e+05</td>\n",
       "      <td>2.375686e+06</td>\n",
       "    </tr>\n",
       "    <tr>\n",
       "      <th>std</th>\n",
       "      <td>48470.687826</td>\n",
       "      <td>649.333891</td>\n",
       "      <td>2063.128829</td>\n",
       "      <td>1986.881384</td>\n",
       "      <td>2152.148505</td>\n",
       "      <td>2064.710643</td>\n",
       "      <td>2064.710643</td>\n",
       "      <td>1.117051e+08</td>\n",
       "      <td>0.493677</td>\n",
       "      <td>0.316755</td>\n",
       "      <td>4.012484e+05</td>\n",
       "      <td>2.461785e+05</td>\n",
       "    </tr>\n",
       "    <tr>\n",
       "      <th>min</th>\n",
       "      <td>7.000000</td>\n",
       "      <td>0.000000</td>\n",
       "      <td>19028.359375</td>\n",
       "      <td>19121.009766</td>\n",
       "      <td>18213.650391</td>\n",
       "      <td>18591.929688</td>\n",
       "      <td>18591.929688</td>\n",
       "      <td>1.770400e+08</td>\n",
       "      <td>0.000000</td>\n",
       "      <td>0.000000</td>\n",
       "      <td>8.753400e+04</td>\n",
       "      <td>1.591158e+06</td>\n",
       "    </tr>\n",
       "    <tr>\n",
       "      <th>25%</th>\n",
       "      <td>25213.500000</td>\n",
       "      <td>537.250000</td>\n",
       "      <td>25900.005859</td>\n",
       "      <td>26102.789551</td>\n",
       "      <td>25609.060058</td>\n",
       "      <td>25855.424317</td>\n",
       "      <td>25855.424317</td>\n",
       "      <td>3.733825e+08</td>\n",
       "      <td>0.000000</td>\n",
       "      <td>1.000000</td>\n",
       "      <td>3.466970e+05</td>\n",
       "      <td>2.193565e+06</td>\n",
       "    </tr>\n",
       "    <tr>\n",
       "      <th>50%</th>\n",
       "      <td>40737.000000</td>\n",
       "      <td>940.500000</td>\n",
       "      <td>26668.264649</td>\n",
       "      <td>26855.940429</td>\n",
       "      <td>26500.794922</td>\n",
       "      <td>26668.174805</td>\n",
       "      <td>26668.174805</td>\n",
       "      <td>4.012850e+08</td>\n",
       "      <td>1.000000</td>\n",
       "      <td>1.000000</td>\n",
       "      <td>6.339280e+05</td>\n",
       "      <td>2.430741e+06</td>\n",
       "    </tr>\n",
       "    <tr>\n",
       "      <th>75%</th>\n",
       "      <td>61185.250000</td>\n",
       "      <td>1295.500000</td>\n",
       "      <td>27542.353027</td>\n",
       "      <td>27810.099610</td>\n",
       "      <td>27447.347656</td>\n",
       "      <td>27602.400391</td>\n",
       "      <td>27602.400391</td>\n",
       "      <td>4.402475e+08</td>\n",
       "      <td>1.000000</td>\n",
       "      <td>1.000000</td>\n",
       "      <td>7.982395e+05</td>\n",
       "      <td>2.556494e+06</td>\n",
       "    </tr>\n",
       "    <tr>\n",
       "      <th>max</th>\n",
       "      <td>227828.000000</td>\n",
       "      <td>3124.000000</td>\n",
       "      <td>30233.029297</td>\n",
       "      <td>30319.699219</td>\n",
       "      <td>29989.560547</td>\n",
       "      <td>30218.259766</td>\n",
       "      <td>30218.259766</td>\n",
       "      <td>9.082600e+08</td>\n",
       "      <td>1.000000</td>\n",
       "      <td>1.000000</td>\n",
       "      <td>2.280522e+06</td>\n",
       "      <td>2.882915e+06</td>\n",
       "    </tr>\n",
       "  </tbody>\n",
       "</table>\n",
       "</div>"
      ],
      "text/plain": [
       "               Cases       Deaths          Open          High           Low  \\\n",
       "count     284.000000   284.000000    284.000000    284.000000    284.000000   \n",
       "mean    54177.947183  1018.915493  26390.153733  26619.178649  26157.870468   \n",
       "std     48470.687826   649.333891   2063.128829   1986.881384   2152.148505   \n",
       "min         7.000000     0.000000  19028.359375  19121.009766  18213.650391   \n",
       "25%     25213.500000   537.250000  25900.005859  26102.789551  25609.060058   \n",
       "50%     40737.000000   940.500000  26668.264649  26855.940429  26500.794922   \n",
       "75%     61185.250000  1295.500000  27542.353027  27810.099610  27447.347656   \n",
       "max    227828.000000  3124.000000  30233.029297  30319.699219  29989.560547   \n",
       "\n",
       "              Close     Adj Close        Volume      Sports       Masks  \\\n",
       "count    284.000000    284.000000  2.840000e+02  284.000000  284.000000   \n",
       "mean   26392.210869  26392.210869  4.298291e+08    0.584507    0.887324   \n",
       "std     2064.710643   2064.710643  1.117051e+08    0.493677    0.316755   \n",
       "min    18591.929688  18591.929688  1.770400e+08    0.000000    0.000000   \n",
       "25%    25855.424317  25855.424317  3.733825e+08    0.000000    1.000000   \n",
       "50%    26668.174805  26668.174805  4.012850e+08    1.000000    1.000000   \n",
       "75%    27602.400391  27602.400391  4.402475e+08    1.000000    1.000000   \n",
       "max    30218.259766  30218.259766  9.082600e+08    1.000000    1.000000   \n",
       "\n",
       "       Travelers 2020  Travelers 2019  \n",
       "count    2.840000e+02    2.840000e+02  \n",
       "mean     6.383851e+05    2.375686e+06  \n",
       "std      4.012484e+05    2.461785e+05  \n",
       "min      8.753400e+04    1.591158e+06  \n",
       "25%      3.466970e+05    2.193565e+06  \n",
       "50%      6.339280e+05    2.430741e+06  \n",
       "75%      7.982395e+05    2.556494e+06  \n",
       "max      2.280522e+06    2.882915e+06  "
      ]
     },
     "execution_count": 168,
     "metadata": {},
     "output_type": "execute_result"
    }
   ],
   "source": [
    "#All summary statistics\n",
    "main_df.describe()"
   ]
  },
  {
   "cell_type": "code",
   "execution_count": 169,
   "metadata": {},
   "outputs": [],
   "source": [
    "sns.set_palette(\"GnBu_d\")\n",
    "sns.set_style('whitegrid')"
   ]
  },
  {
   "cell_type": "code",
   "execution_count": 177,
   "metadata": {},
   "outputs": [
    {
     "data": {
      "text/plain": [
       "<seaborn.axisgrid.JointGrid at 0x177d2a53b88>"
      ]
     },
     "execution_count": 177,
     "metadata": {},
     "output_type": "execute_result"
    },
    {
     "data": {
      "image/png": "[encoded data removed]",
      "text/plain": [
       "<Figure size 432x432 with 3 Axes>"
      ]
     },
     "metadata": {},
     "output_type": "display_data"
    }
   ],
   "source": [
    "#Graph travel numbers from this year and last year\n",
    "sns.jointplot(x = 'Travelers 2020', y = 'Travelers 2019', data = main_df)"
   ]
  },
  {
   "cell_type": "markdown",
   "metadata": {},
   "source": [
    "As we can clearly see, the numbers for 2020 have been significantly smaller than from 2019"
   ]
  },
  {
   "cell_type": "code",
   "execution_count": 194,
   "metadata": {},
   "outputs": [
    {
     "data": {
      "text/plain": [
       "<seaborn.axisgrid.FacetGrid at 0x177d40e7c08>"
      ]
     },
     "execution_count": 194,
     "metadata": {},
     "output_type": "execute_result"
    },
    {
     "data": {
      "image/png": "[encoded data removed]",
      "text/plain": [
       "<Figure size 360x360 with 1 Axes>"
      ]
     },
     "metadata": {},
     "output_type": "display_data"
    }
   ],
   "source": [
    "#Graph travelers 2020 vs cases\n",
    "sns.lmplot(x = 'Travelers 2020', y = 'Cases', data = main_df)"
   ]
  },
  {
   "cell_type": "markdown",
   "metadata": {},
   "source": [
    "Very interesting shape to this...  "
   ]
  },
  {
   "cell_type": "code",
   "execution_count": 171,
   "metadata": {},
   "outputs": [
    {
     "data": {
      "text/plain": [
       "<seaborn.axisgrid.FacetGrid at 0x177d0f100c8>"
      ]
     },
     "execution_count": 171,
     "metadata": {},
     "output_type": "execute_result"
    },
    {
     "data": {
      "image/png": "[encoded data removed]",
      "text/plain": [
       "<Figure size 360x360 with 1 Axes>"
      ]
     },
     "metadata": {},
     "output_type": "display_data"
    }
   ],
   "source": [
    "#Plot line graph of number of cases\n",
    "sns.relplot(x = 'Date', y = 'Cases', kind = 'line', data = main_df)"
   ]
  },
  {
   "cell_type": "code",
   "execution_count": 172,
   "metadata": {},
   "outputs": [
    {
     "data": {
      "text/plain": [
       "<matplotlib.axes._subplots.AxesSubplot at 0x177d2123988>"
      ]
     },
     "execution_count": 172,
     "metadata": {},
     "output_type": "execute_result"
    },
    {
     "data": {
      "image/png": "[encoded data removed]",
      "text/plain": [
       "<Figure size 432x288 with 1 Axes>"
      ]
     },
     "metadata": {},
     "output_type": "display_data"
    }
   ],
   "source": [
    "#Plot count of days with masks vs no masks\n",
    "sns.countplot(x = 'Masks', data = main_df)"
   ]
  },
  {
   "cell_type": "code",
   "execution_count": 255,
   "metadata": {},
   "outputs": [
    {
     "data": {
      "text/plain": [
       "<matplotlib.legend.Legend at 0x177d901ac88>"
      ]
     },
     "execution_count": 255,
     "metadata": {},
     "output_type": "execute_result"
    },
    {
     "data": {
      "image/png": "[encoded data removed]",
      "text/plain": [
       "<Figure size 720x432 with 1 Axes>"
      ]
     },
     "metadata": {
      "needs_background": "light"
     },
     "output_type": "display_data"
    }
   ],
   "source": [
    "#Plot number of travelers vs number of cases\n",
    "plt.figure(figsize=(10,6))\n",
    "plt.gca().xaxis.set_major_formatter(mdates.DateFormatter('%Y-%m-%d'))\n",
    "plt.gca().xaxis.set_major_locator(mdates.DayLocator(interval=5))\n",
    "plt.plot('Date', 'Travelers 2020', data = main_df, label = 'Travelers')\n",
    "plt.plot('Date', 'Cases', data = main_df, label = 'Cases')\n",
    "\n",
    "plt.legend()"
   ]
  },
  {
   "cell_type": "markdown",
   "metadata": {},
   "source": [
    "## Models"
   ]
  },
  {
   "cell_type": "markdown",
   "metadata": {},
   "source": [
    "We will now fit our data to different machine learning models. We will be fitting the data to a linear, KNN, ridge, and decision tree model. We will run MAE, MSE, RMSE, and CV sc"
   ]
  },
  {
   "cell_type": "markdown",
   "metadata": {},
   "source": [
    "## Linear Regression"
   ]
  },
  {
   "cell_type": "code",
   "execution_count": 203,
   "metadata": {},
   "outputs": [],
   "source": [
    "from sklearn.linear_model import LinearRegression\n",
    "from sklearn.model_selection import train_test_split, cross_val_score"
   ]
  },
  {
   "cell_type": "code",
   "execution_count": 184,
   "metadata": {},
   "outputs": [],
   "source": [
    "#Separate response from explanatory\n",
    "y = main_df['Travelers 2020']\n",
    "\n",
    "X = main_df[['Cases', 'Deaths', 'Open', 'High', 'Low', 'Close', 'Adj Close', 'Volume', 'Sports', 'Masks', 'Travelers 2019']]"
   ]
  },
  {
   "cell_type": "code",
   "execution_count": 185,
   "metadata": {},
   "outputs": [],
   "source": [
    "#Separate training and test data\n",
    "X_train, X_test, y_train, y_test = train_test_split(X, y, test_size=0.3, random_state=101)"
   ]
  },
  {
   "cell_type": "code",
   "execution_count": 186,
   "metadata": {},
   "outputs": [],
   "source": [
    "lm = LinearRegression()"
   ]
  },
  {
   "cell_type": "code",
   "execution_count": 187,
   "metadata": {},
   "outputs": [
    {
     "data": {
      "text/plain": [
       "LinearRegression(copy_X=True, fit_intercept=True, n_jobs=None, normalize=False)"
      ]
     },
     "execution_count": 187,
     "metadata": {},
     "output_type": "execute_result"
    }
   ],
   "source": [
    "#Fit a linear regression model\n",
    "lm.fit(X_train,y_train)"
   ]
  },
  {
   "cell_type": "code",
   "execution_count": 188,
   "metadata": {},
   "outputs": [
    {
     "name": "stdout",
     "output_type": "stream",
     "text": [
      "Coefficients: \n",
      " [ 4.34770099e+00  1.83464093e+02  1.17004012e+02 -1.82928386e+02\n",
      "  6.75991449e+01 -3.32849264e+00 -3.32849263e+00  5.09455846e-05\n",
      " -3.70770896e+05 -5.31593389e+05  2.44579269e-01]\n"
     ]
    }
   ],
   "source": [
    "#Show coefficients\n",
    "print('Coefficients: \\n', lm.coef_)"
   ]
  },
  {
   "cell_type": "code",
   "execution_count": 189,
   "metadata": {},
   "outputs": [],
   "source": [
    "#Gather predictions from fitted model\n",
    "predictions = lm.predict(X_test)"
   ]
  },
  {
   "cell_type": "code",
   "execution_count": 190,
   "metadata": {},
   "outputs": [
    {
     "data": {
      "text/plain": [
       "Text(0, 0.5, 'Predicted Y')"
      ]
     },
     "execution_count": 190,
     "metadata": {},
     "output_type": "execute_result"
    },
    {
     "data": {
      "image/png": "[encoded data removed]",
      "text/plain": [
       "<Figure size 432x288 with 1 Axes>"
      ]
     },
     "metadata": {},
     "output_type": "display_data"
    }
   ],
   "source": [
    "#Plot predictions vs actual\n",
    "plt.scatter(y_test,predictions)\n",
    "plt.xlabel('Y Test')\n",
    "plt.ylabel('Predicted Y')"
   ]
  },
  {
   "cell_type": "code",
   "execution_count": 200,
   "metadata": {},
   "outputs": [
    {
     "name": "stdout",
     "output_type": "stream",
     "text": [
      "MAE: 209582.34029446437\n",
      "MSE: 89312463686.86139\n",
      "RMSE: 298851.9092909754\n",
      "R^2:  0.5075655165151798\n"
     ]
    }
   ],
   "source": [
    "#Generate metrics\n",
    "from sklearn import metrics\n",
    "\n",
    "print('MAE:', metrics.mean_absolute_error(y_test, predictions))\n",
    "print('MSE:', metrics.mean_squared_error(y_test, predictions))\n",
    "print('RMSE:', np.sqrt(metrics.mean_squared_error(y_test, predictions)))\n",
    "print('R^2: ', metrics.r2_score(y_test, predictions))"
   ]
  },
  {
   "cell_type": "code",
   "execution_count": 241,
   "metadata": {},
   "outputs": [
    {
     "name": "stdout",
     "output_type": "stream",
     "text": [
      "Cross validation score:  279372589873.1498\n"
     ]
    }
   ],
   "source": [
    "#CV score\n",
    "print('Cross validation score: ',-1 * ((cross_val_score(lm, X, y, cv=10, scoring='neg_mean_squared_error')).mean()))"
   ]
  },
  {
   "cell_type": "markdown",
   "metadata": {},
   "source": [
    "With a RMSE of 298851 and CV score of 279372589873.1498, I would say that this model isn't the best for predicting the number of airplane travelers in 2020, but 2020 has been hard for anyone to predict so it's not the worst thing to come from 2020."
   ]
  },
  {
   "cell_type": "code",
   "execution_count": 192,
   "metadata": {},
   "outputs": [
    {
     "data": {
      "image/png": "[encoded data removed]",
      "text/plain": [
       "<Figure size 432x288 with 1 Axes>"
      ]
     },
     "metadata": {},
     "output_type": "display_data"
    }
   ],
   "source": [
    "#Plot residuals\n",
    "sns.distplot((y_test-predictions),bins=60);"
   ]
  },
  {
   "cell_type": "markdown",
   "metadata": {},
   "source": [
    "At least the residuals look normal? That's good? Our data really isn't that linear though, so linear regression assumptions are iffy on this data"
   ]
  },
  {
   "cell_type": "code",
   "execution_count": 251,
   "metadata": {},
   "outputs": [
    {
     "data": {
      "text/plain": [
       "400541.3894473091"
      ]
     },
     "execution_count": 251,
     "metadata": {},
     "output_type": "execute_result"
    }
   ],
   "source": [
    "np.std(main_df['Travelers 2020'])"
   ]
  },
  {
   "cell_type": "markdown",
   "metadata": {},
   "source": [
    "## KNN"
   ]
  },
  {
   "cell_type": "code",
   "execution_count": 224,
   "metadata": {},
   "outputs": [],
   "source": [
    "from sklearn.neighbors import KNeighborsRegressor"
   ]
  },
  {
   "cell_type": "code",
   "execution_count": 225,
   "metadata": {},
   "outputs": [],
   "source": [
    "#KNN with 5\n",
    "knn = KNeighborsRegressor(n_neighbors=5)"
   ]
  },
  {
   "cell_type": "code",
   "execution_count": 226,
   "metadata": {},
   "outputs": [
    {
     "data": {
      "text/plain": [
       "KNeighborsRegressor(algorithm='auto', leaf_size=30, metric='minkowski',\n",
       "                    metric_params=None, n_jobs=None, n_neighbors=5, p=2,\n",
       "                    weights='uniform')"
      ]
     },
     "execution_count": 226,
     "metadata": {},
     "output_type": "execute_result"
    }
   ],
   "source": [
    "#Fit the model\n",
    "knn.fit(X_train, y_train)"
   ]
  },
  {
   "cell_type": "code",
   "execution_count": 227,
   "metadata": {},
   "outputs": [],
   "source": [
    "#Make predictions\n",
    "knn_preds = knn.predict(X_test)"
   ]
  },
  {
   "cell_type": "code",
   "execution_count": 228,
   "metadata": {},
   "outputs": [
    {
     "name": "stdout",
     "output_type": "stream",
     "text": [
      "MAE: 317331.5046511628\n",
      "MSE: 198213011157.18558\n",
      "RMSE: 445211.19837351976\n"
     ]
    }
   ],
   "source": [
    "#Get metrics\n",
    "print('MAE:', metrics.mean_absolute_error(y_test, knn_preds))\n",
    "print('MSE:', metrics.mean_squared_error(y_test, knn_preds))\n",
    "print('RMSE:', np.sqrt(metrics.mean_squared_error(y_test, knn_preds)))"
   ]
  },
  {
   "cell_type": "code",
   "execution_count": 206,
   "metadata": {},
   "outputs": [
    {
     "name": "stdout",
     "output_type": "stream",
     "text": [
      "Cross validation score:  230145124472.75333\n"
     ]
    }
   ],
   "source": [
    "#Get CV score\n",
    "print('Cross validation score: ',-1 * ((cross_val_score(knn, X, y, cv=10, scoring='neg_mean_squared_error')).mean()))"
   ]
  },
  {
   "cell_type": "markdown",
   "metadata": {},
   "source": [
    "Well, this model did not do any better at predicting with accuracy the amount of travelers flying on a given day in 2020 since the RMSE is much higher than that of the lm model. Let's try to find a proper amount of K with GridSearch."
   ]
  },
  {
   "cell_type": "code",
   "execution_count": 213,
   "metadata": {},
   "outputs": [],
   "source": [
    "from sklearn.model_selection import GridSearchCV"
   ]
  },
  {
   "cell_type": "code",
   "execution_count": 214,
   "metadata": {},
   "outputs": [
    {
     "data": {
      "text/plain": [
       "GridSearchCV(cv=None, error_score=nan,\n",
       "             estimator=KNeighborsRegressor(algorithm='auto', leaf_size=30,\n",
       "                                           metric='minkowski',\n",
       "                                           metric_params=None, n_jobs=None,\n",
       "                                           n_neighbors=5, p=2,\n",
       "                                           weights='uniform'),\n",
       "             iid='deprecated', n_jobs=None,\n",
       "             param_grid={'n_neighbors': [1, 2, 3, 4, 5, 6, 7, 8, 9, 10, 11, 12,\n",
       "                                         13, 14, 15, 16, 17, 18, 19, 20, 21, 22,\n",
       "                                         23, 24, 25, 26, 27, 28, 29]},\n",
       "             pre_dispatch='2*n_jobs', refit=True, return_train_score=False,\n",
       "             scoring=None, verbose=0)"
      ]
     },
     "execution_count": 214,
     "metadata": {},
     "output_type": "execute_result"
    }
   ],
   "source": [
    "parameters = {'n_neighbors':list(range(1,30))}\n",
    "knn = KNeighborsRegressor()\n",
    "clf = GridSearchCV(knn, parameters)\n",
    "clf.fit(X, y)"
   ]
  },
  {
   "cell_type": "code",
   "execution_count": 217,
   "metadata": {},
   "outputs": [
    {
     "data": {
      "text/plain": [
       "{'n_neighbors': 28}"
      ]
     },
     "execution_count": 217,
     "metadata": {},
     "output_type": "execute_result"
    }
   ],
   "source": [
    "clf.best_params_"
   ]
  },
  {
   "cell_type": "code",
   "execution_count": 221,
   "metadata": {},
   "outputs": [],
   "source": [
    "knn = KNeighborsRegressor(n_neighbors=28)"
   ]
  },
  {
   "cell_type": "code",
   "execution_count": 229,
   "metadata": {},
   "outputs": [
    {
     "data": {
      "text/plain": [
       "KNeighborsRegressor(algorithm='auto', leaf_size=30, metric='minkowski',\n",
       "                    metric_params=None, n_jobs=None, n_neighbors=5, p=2,\n",
       "                    weights='uniform')"
      ]
     },
     "execution_count": 229,
     "metadata": {},
     "output_type": "execute_result"
    }
   ],
   "source": [
    "knn.fit(X_train, y_train)"
   ]
  },
  {
   "cell_type": "code",
   "execution_count": 230,
   "metadata": {},
   "outputs": [],
   "source": [
    "knn_preds = knn.predict(X_test)"
   ]
  },
  {
   "cell_type": "code",
   "execution_count": 231,
   "metadata": {},
   "outputs": [
    {
     "name": "stdout",
     "output_type": "stream",
     "text": [
      "MAE: 317331.5046511628\n",
      "MSE: 198213011157.18558\n",
      "RMSE: 445211.19837351976\n"
     ]
    }
   ],
   "source": [
    "print('MAE:', metrics.mean_absolute_error(y_test, knn_preds))\n",
    "print('MSE:', metrics.mean_squared_error(y_test, knn_preds))\n",
    "print('RMSE:', np.sqrt(metrics.mean_squared_error(y_test, knn_preds)))"
   ]
  },
  {
   "cell_type": "markdown",
   "metadata": {},
   "source": [
    "Looks like we get the same results. KNN is not very good at and not as good as linear regression."
   ]
  },
  {
   "cell_type": "markdown",
   "metadata": {},
   "source": [
    "## Ridge"
   ]
  },
  {
   "cell_type": "code",
   "execution_count": 232,
   "metadata": {},
   "outputs": [],
   "source": [
    "from sklearn.linear_model import Ridge"
   ]
  },
  {
   "cell_type": "code",
   "execution_count": 233,
   "metadata": {},
   "outputs": [],
   "source": [
    "ridge = Ridge()"
   ]
  },
  {
   "cell_type": "code",
   "execution_count": 234,
   "metadata": {},
   "outputs": [
    {
     "name": "stderr",
     "output_type": "stream",
     "text": [
      "C:\\Users\\thebs\\anaconda3\\lib\\site-packages\\sklearn\\linear_model\\_ridge.py:148: LinAlgWarning: Ill-conditioned matrix (rcond=2.12647e-18): result may not be accurate.\n",
      "  overwrite_a=True).T\n"
     ]
    },
    {
     "data": {
      "text/plain": [
       "Ridge(alpha=1.0, copy_X=True, fit_intercept=True, max_iter=None,\n",
       "      normalize=False, random_state=None, solver='auto', tol=0.001)"
      ]
     },
     "execution_count": 234,
     "metadata": {},
     "output_type": "execute_result"
    }
   ],
   "source": [
    "ridge.fit(X_train, y_train)"
   ]
  },
  {
   "cell_type": "code",
   "execution_count": 235,
   "metadata": {},
   "outputs": [],
   "source": [
    "ridge_preds = ridge.predict(X_test)"
   ]
  },
  {
   "cell_type": "code",
   "execution_count": 238,
   "metadata": {},
   "outputs": [
    {
     "name": "stdout",
     "output_type": "stream",
     "text": [
      "MAE: 211176.6644662734\n",
      "MSE: 90417914812.4394\n",
      "RMSE: 300695.7179815493\n",
      "R^2:  0.5014704853003841\n"
     ]
    }
   ],
   "source": [
    "print('MAE:', metrics.mean_absolute_error(y_test, ridge_preds))\n",
    "print('MSE:', metrics.mean_squared_error(y_test, ridge_preds))\n",
    "print('RMSE:', np.sqrt(metrics.mean_squared_error(y_test, ridge_preds)))\n",
    "print('R^2: ', metrics.r2_score(y_test, ridge_preds))"
   ]
  },
  {
   "cell_type": "code",
   "execution_count": 242,
   "metadata": {},
   "outputs": [
    {
     "name": "stdout",
     "output_type": "stream",
     "text": [
      "Cross validation score:  289037063937.7112\n"
     ]
    },
    {
     "name": "stderr",
     "output_type": "stream",
     "text": [
      "C:\\Users\\thebs\\anaconda3\\lib\\site-packages\\sklearn\\linear_model\\_ridge.py:148: LinAlgWarning: Ill-conditioned matrix (rcond=2.45773e-18): result may not be accurate.\n",
      "  overwrite_a=True).T\n",
      "C:\\Users\\thebs\\anaconda3\\lib\\site-packages\\sklearn\\linear_model\\_ridge.py:148: LinAlgWarning: Ill-conditioned matrix (rcond=1.48952e-18): result may not be accurate.\n",
      "  overwrite_a=True).T\n",
      "C:\\Users\\thebs\\anaconda3\\lib\\site-packages\\sklearn\\linear_model\\_ridge.py:148: LinAlgWarning: Ill-conditioned matrix (rcond=1.46358e-18): result may not be accurate.\n",
      "  overwrite_a=True).T\n",
      "C:\\Users\\thebs\\anaconda3\\lib\\site-packages\\sklearn\\linear_model\\_ridge.py:148: LinAlgWarning: Ill-conditioned matrix (rcond=1.48107e-18): result may not be accurate.\n",
      "  overwrite_a=True).T\n",
      "C:\\Users\\thebs\\anaconda3\\lib\\site-packages\\sklearn\\linear_model\\_ridge.py:148: LinAlgWarning: Ill-conditioned matrix (rcond=1.48031e-18): result may not be accurate.\n",
      "  overwrite_a=True).T\n",
      "C:\\Users\\thebs\\anaconda3\\lib\\site-packages\\sklearn\\linear_model\\_ridge.py:148: LinAlgWarning: Ill-conditioned matrix (rcond=1.49566e-18): result may not be accurate.\n",
      "  overwrite_a=True).T\n",
      "C:\\Users\\thebs\\anaconda3\\lib\\site-packages\\sklearn\\linear_model\\_ridge.py:148: LinAlgWarning: Ill-conditioned matrix (rcond=1.5159e-18): result may not be accurate.\n",
      "  overwrite_a=True).T\n",
      "C:\\Users\\thebs\\anaconda3\\lib\\site-packages\\sklearn\\linear_model\\_ridge.py:148: LinAlgWarning: Ill-conditioned matrix (rcond=1.49879e-18): result may not be accurate.\n",
      "  overwrite_a=True).T\n",
      "C:\\Users\\thebs\\anaconda3\\lib\\site-packages\\sklearn\\linear_model\\_ridge.py:148: LinAlgWarning: Ill-conditioned matrix (rcond=1.49846e-18): result may not be accurate.\n",
      "  overwrite_a=True).T\n",
      "C:\\Users\\thebs\\anaconda3\\lib\\site-packages\\sklearn\\linear_model\\_ridge.py:148: LinAlgWarning: Ill-conditioned matrix (rcond=1.49514e-18): result may not be accurate.\n",
      "  overwrite_a=True).T\n"
     ]
    }
   ],
   "source": [
    "#CV score\n",
    "print('Cross validation score: ',-1 * ((cross_val_score(ridge, X, y, cv=10, scoring='neg_mean_squared_error')).mean()))"
   ]
  },
  {
   "cell_type": "markdown",
   "metadata": {},
   "source": [
    "Comparing this model's RMSE and CV score to that of Linear regression and KNN, it is the middle man. It performed slightly worse than the Linear regression model and better than the KNN model."
   ]
  },
  {
   "cell_type": "markdown",
   "metadata": {},
   "source": [
    "## Decision Tree Regressor"
   ]
  },
  {
   "cell_type": "code",
   "execution_count": 244,
   "metadata": {},
   "outputs": [],
   "source": [
    "from sklearn.tree import DecisionTreeRegressor"
   ]
  },
  {
   "cell_type": "code",
   "execution_count": 245,
   "metadata": {},
   "outputs": [],
   "source": [
    "decTree = DecisionTreeRegressor()"
   ]
  },
  {
   "cell_type": "code",
   "execution_count": 246,
   "metadata": {},
   "outputs": [
    {
     "data": {
      "text/plain": [
       "DecisionTreeRegressor(ccp_alpha=0.0, criterion='mse', max_depth=None,\n",
       "                      max_features=None, max_leaf_nodes=None,\n",
       "                      min_impurity_decrease=0.0, min_impurity_split=None,\n",
       "                      min_samples_leaf=1, min_samples_split=2,\n",
       "                      min_weight_fraction_leaf=0.0, presort='deprecated',\n",
       "                      random_state=None, splitter='best')"
      ]
     },
     "execution_count": 246,
     "metadata": {},
     "output_type": "execute_result"
    }
   ],
   "source": [
    "decTree.fit(X_train, y_train)"
   ]
  },
  {
   "cell_type": "code",
   "execution_count": 247,
   "metadata": {},
   "outputs": [],
   "source": [
    "dec_preds = decTree.predict(X_test)"
   ]
  },
  {
   "cell_type": "code",
   "execution_count": 248,
   "metadata": {},
   "outputs": [
    {
     "name": "stdout",
     "output_type": "stream",
     "text": [
      "MAE: 213498.91860465117\n",
      "MSE: 158967825632.52325\n",
      "RMSE: 398707.6944736874\n",
      "R^2:  0.12351271172499989\n"
     ]
    }
   ],
   "source": [
    "print('MAE:', metrics.mean_absolute_error(y_test, dec_preds))\n",
    "print('MSE:', metrics.mean_squared_error(y_test, dec_preds))\n",
    "print('RMSE:', np.sqrt(metrics.mean_squared_error(y_test, dec_preds)))\n",
    "print('R^2: ', metrics.r2_score(y_test, dec_preds))"
   ]
  },
  {
   "cell_type": "code",
   "execution_count": 249,
   "metadata": {},
   "outputs": [
    {
     "name": "stdout",
     "output_type": "stream",
     "text": [
      "Cross validation score:  233772587653.33438\n"
     ]
    }
   ],
   "source": [
    "#CV score\n",
    "print('Cross validation score: ',-1 * ((cross_val_score(decTree, X, y, cv=10, scoring='neg_mean_squared_error')).mean()))"
   ]
  },
  {
   "cell_type": "markdown",
   "metadata": {},
   "source": [
    "From the decision tree scores, it would be in 3rd in for in ranking our ML methods by predictive power."
   ]
  },
  {
   "cell_type": "markdown",
   "metadata": {},
   "source": [
    "# Conclusions"
   ]
  },
  {
   "cell_type": "markdown",
   "metadata": {},
   "source": [
    "From our various models metrics, we see that could not find a model with very high predictive power. Nonetheless, the best performing model with regard to the metrics we measured was our linear regression model. Since our RMSE for linear regression is actually less than our standard deviation for travelers in 2020, it does have a bit of predictive power. We do recognize that our model could use more features to aid in its predictive power. Some possible features to improve the model would be airfare prices, number of flights, travel bans, etc. As well, we recognize that the United States is a very big country and each part of it has been experiencing different trials throughout the year. From the pandemic to civil unrest, predicting events this year has been tough. Not only that, but we saw from our EDA that there was a sharp up tick of travelers near the end of year. This could be from people traveling home to be with their families, even though cases were higher than when a lot of the country had many shutdowns. Nonetheless, using country states of economic status, public status, recreation status, and CDC guideline of masks, we were able to construct a machine learning model to predict the number of air travelers on a given day in the United States. "
   ]
  },
  {
   "cell_type": "code",
   "execution_count": null,
   "metadata": {},
   "outputs": [],
   "source": []
  }
 ],
 "metadata": {
  "kernelspec": {
   "display_name": "Python 3",
   "language": "python",
   "name": "python3"
  },
  "language_info": {
   "codemirror_mode": {
    "name": "ipython",
    "version": 3
   },
   "file_extension": ".py",
   "mimetype": "text/x-python",
   "name": "python",
   "nbconvert_exporter": "python",
   "pygments_lexer": "ipython3",
   "version": "3.7.6"
  }
 },
 "nbformat": 4,
 "nbformat_minor": 4
}
